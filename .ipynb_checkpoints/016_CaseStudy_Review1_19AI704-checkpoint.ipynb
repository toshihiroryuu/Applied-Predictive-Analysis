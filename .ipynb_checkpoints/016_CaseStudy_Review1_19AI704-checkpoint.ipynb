{
 "cells": [
  {
   "cell_type": "markdown",
   "metadata": {},
   "source": [
    "# Case Study - Insurance Cost/Charge Prediction"
   ]
  },
  {
   "cell_type": "markdown",
   "metadata": {},
   "source": [
    "Athul Mathew Konoor    CB.EN.P2AID20016            Review1"
   ]
  },
  {
   "cell_type": "markdown",
   "metadata": {},
   "source": [
    "Dataset url : https://raw.githubusercontent.com/toshihiroryuu/Dataset-test/main/insurance_ed.csv"
   ]
  },
  {
   "cell_type": "code",
   "execution_count": 1,
   "metadata": {},
   "outputs": [
    {
     "data": {
      "text/html": [
       "<div>\n",
       "<style scoped>\n",
       "    .dataframe tbody tr th:only-of-type {\n",
       "        vertical-align: middle;\n",
       "    }\n",
       "\n",
       "    .dataframe tbody tr th {\n",
       "        vertical-align: top;\n",
       "    }\n",
       "\n",
       "    .dataframe thead th {\n",
       "        text-align: right;\n",
       "    }\n",
       "</style>\n",
       "<table border=\"1\" class=\"dataframe\">\n",
       "  <thead>\n",
       "    <tr style=\"text-align: right;\">\n",
       "      <th></th>\n",
       "      <th>age</th>\n",
       "      <th>sex</th>\n",
       "      <th>bmi</th>\n",
       "      <th>children</th>\n",
       "      <th>smoker</th>\n",
       "      <th>region</th>\n",
       "      <th>charges</th>\n",
       "    </tr>\n",
       "  </thead>\n",
       "  <tbody>\n",
       "    <tr>\n",
       "      <th>0</th>\n",
       "      <td>19</td>\n",
       "      <td>female</td>\n",
       "      <td>27.900</td>\n",
       "      <td>0.0</td>\n",
       "      <td>yes</td>\n",
       "      <td>southwest</td>\n",
       "      <td>16884.92400</td>\n",
       "    </tr>\n",
       "    <tr>\n",
       "      <th>1</th>\n",
       "      <td>18</td>\n",
       "      <td>male</td>\n",
       "      <td>33.770</td>\n",
       "      <td>1.0</td>\n",
       "      <td>no</td>\n",
       "      <td>southeast</td>\n",
       "      <td>1725.55230</td>\n",
       "    </tr>\n",
       "    <tr>\n",
       "      <th>2</th>\n",
       "      <td>28</td>\n",
       "      <td>male</td>\n",
       "      <td>33.000</td>\n",
       "      <td>3.0</td>\n",
       "      <td>no</td>\n",
       "      <td>southeast</td>\n",
       "      <td>4449.46200</td>\n",
       "    </tr>\n",
       "    <tr>\n",
       "      <th>3</th>\n",
       "      <td>33</td>\n",
       "      <td>male</td>\n",
       "      <td>22.705</td>\n",
       "      <td>0.0</td>\n",
       "      <td>no</td>\n",
       "      <td>northwest</td>\n",
       "      <td>21984.47061</td>\n",
       "    </tr>\n",
       "    <tr>\n",
       "      <th>4</th>\n",
       "      <td>32</td>\n",
       "      <td>male</td>\n",
       "      <td>28.880</td>\n",
       "      <td>0.0</td>\n",
       "      <td>no</td>\n",
       "      <td>northwest</td>\n",
       "      <td>3866.85520</td>\n",
       "    </tr>\n",
       "  </tbody>\n",
       "</table>\n",
       "</div>"
      ],
      "text/plain": [
       "   age     sex     bmi  children smoker     region      charges\n",
       "0   19  female  27.900       0.0    yes  southwest  16884.92400\n",
       "1   18    male  33.770       1.0     no  southeast   1725.55230\n",
       "2   28    male  33.000       3.0     no  southeast   4449.46200\n",
       "3   33    male  22.705       0.0     no  northwest  21984.47061\n",
       "4   32    male  28.880       0.0     no  northwest   3866.85520"
      ]
     },
     "execution_count": 1,
     "metadata": {},
     "output_type": "execute_result"
    }
   ],
   "source": [
    "import pandas as pd\n",
    "import numpy as np\n",
    "\n",
    "import seaborn as sns\n",
    "import matplotlib.pyplot as plt\n",
    "\n",
    "import missingno as msno\n",
    "# ! pip install missingno\n",
    "\n",
    "url = \"https://raw.githubusercontent.com/toshihiroryuu/Dataset-test/main/insurance_ed.csv\"\n",
    "\n",
    "df = pd.read_csv(url)\n",
    "\n",
    "df.head(5)"
   ]
  },
  {
   "cell_type": "code",
   "execution_count": 2,
   "metadata": {},
   "outputs": [
    {
     "name": "stdout",
     "output_type": "stream",
     "text": [
      "Size of the data frame is 9366\n",
      "Shape of the data frame is (1338, 7)\n",
      "No of Rows =  1338\n",
      "No of Columns =  7\n"
     ]
    },
    {
     "data": {
      "text/html": [
       "<div>\n",
       "<style scoped>\n",
       "    .dataframe tbody tr th:only-of-type {\n",
       "        vertical-align: middle;\n",
       "    }\n",
       "\n",
       "    .dataframe tbody tr th {\n",
       "        vertical-align: top;\n",
       "    }\n",
       "\n",
       "    .dataframe thead th {\n",
       "        text-align: right;\n",
       "    }\n",
       "</style>\n",
       "<table border=\"1\" class=\"dataframe\">\n",
       "  <thead>\n",
       "    <tr style=\"text-align: right;\">\n",
       "      <th></th>\n",
       "      <th>age</th>\n",
       "      <th>bmi</th>\n",
       "      <th>children</th>\n",
       "      <th>charges</th>\n",
       "    </tr>\n",
       "  </thead>\n",
       "  <tbody>\n",
       "    <tr>\n",
       "      <th>count</th>\n",
       "      <td>1338.000000</td>\n",
       "      <td>1309.000000</td>\n",
       "      <td>1328.000000</td>\n",
       "      <td>1338.000000</td>\n",
       "    </tr>\n",
       "    <tr>\n",
       "      <th>mean</th>\n",
       "      <td>39.207025</td>\n",
       "      <td>30.651650</td>\n",
       "      <td>1.091867</td>\n",
       "      <td>13270.422265</td>\n",
       "    </tr>\n",
       "    <tr>\n",
       "      <th>std</th>\n",
       "      <td>14.049960</td>\n",
       "      <td>6.122257</td>\n",
       "      <td>1.199972</td>\n",
       "      <td>12110.011237</td>\n",
       "    </tr>\n",
       "    <tr>\n",
       "      <th>min</th>\n",
       "      <td>18.000000</td>\n",
       "      <td>15.960000</td>\n",
       "      <td>0.000000</td>\n",
       "      <td>1121.873900</td>\n",
       "    </tr>\n",
       "    <tr>\n",
       "      <th>25%</th>\n",
       "      <td>27.000000</td>\n",
       "      <td>26.220000</td>\n",
       "      <td>0.000000</td>\n",
       "      <td>4740.287150</td>\n",
       "    </tr>\n",
       "    <tr>\n",
       "      <th>50%</th>\n",
       "      <td>39.000000</td>\n",
       "      <td>30.305000</td>\n",
       "      <td>1.000000</td>\n",
       "      <td>9382.033000</td>\n",
       "    </tr>\n",
       "    <tr>\n",
       "      <th>75%</th>\n",
       "      <td>51.000000</td>\n",
       "      <td>34.700000</td>\n",
       "      <td>2.000000</td>\n",
       "      <td>16639.912515</td>\n",
       "    </tr>\n",
       "    <tr>\n",
       "      <th>max</th>\n",
       "      <td>64.000000</td>\n",
       "      <td>53.130000</td>\n",
       "      <td>5.000000</td>\n",
       "      <td>63770.428010</td>\n",
       "    </tr>\n",
       "  </tbody>\n",
       "</table>\n",
       "</div>"
      ],
      "text/plain": [
       "               age          bmi     children       charges\n",
       "count  1338.000000  1309.000000  1328.000000   1338.000000\n",
       "mean     39.207025    30.651650     1.091867  13270.422265\n",
       "std      14.049960     6.122257     1.199972  12110.011237\n",
       "min      18.000000    15.960000     0.000000   1121.873900\n",
       "25%      27.000000    26.220000     0.000000   4740.287150\n",
       "50%      39.000000    30.305000     1.000000   9382.033000\n",
       "75%      51.000000    34.700000     2.000000  16639.912515\n",
       "max      64.000000    53.130000     5.000000  63770.428010"
      ]
     },
     "execution_count": 2,
     "metadata": {},
     "output_type": "execute_result"
    }
   ],
   "source": [
    "# identify the size of data frame\n",
    "print(\"Size of the data frame is\",df.size)\n",
    "\n",
    "# identify the shape of the data frame \n",
    "print(\"Shape of the data frame is\",df.shape)\n",
    "print(\"No of Rows = \", df.shape[0])\n",
    "print(\"No of Columns = \", df.shape[1])\n",
    "\n",
    "df.describe()"
   ]
  },
  {
   "cell_type": "markdown",
   "metadata": {},
   "source": [
    "## Preprocessing\n",
    "- Change labels to categorical values"
   ]
  },
  {
   "cell_type": "code",
   "execution_count": 3,
   "metadata": {},
   "outputs": [
    {
     "data": {
      "text/html": [
       "<div>\n",
       "<style scoped>\n",
       "    .dataframe tbody tr th:only-of-type {\n",
       "        vertical-align: middle;\n",
       "    }\n",
       "\n",
       "    .dataframe tbody tr th {\n",
       "        vertical-align: top;\n",
       "    }\n",
       "\n",
       "    .dataframe thead th {\n",
       "        text-align: right;\n",
       "    }\n",
       "</style>\n",
       "<table border=\"1\" class=\"dataframe\">\n",
       "  <thead>\n",
       "    <tr style=\"text-align: right;\">\n",
       "      <th></th>\n",
       "      <th>age</th>\n",
       "      <th>sex</th>\n",
       "      <th>bmi</th>\n",
       "      <th>children</th>\n",
       "      <th>smoker</th>\n",
       "      <th>region</th>\n",
       "      <th>charges</th>\n",
       "    </tr>\n",
       "  </thead>\n",
       "  <tbody>\n",
       "    <tr>\n",
       "      <th>0</th>\n",
       "      <td>19</td>\n",
       "      <td>0</td>\n",
       "      <td>27.900</td>\n",
       "      <td>0.0</td>\n",
       "      <td>yes</td>\n",
       "      <td>southwest</td>\n",
       "      <td>16884.92400</td>\n",
       "    </tr>\n",
       "    <tr>\n",
       "      <th>1</th>\n",
       "      <td>18</td>\n",
       "      <td>1</td>\n",
       "      <td>33.770</td>\n",
       "      <td>1.0</td>\n",
       "      <td>no</td>\n",
       "      <td>southeast</td>\n",
       "      <td>1725.55230</td>\n",
       "    </tr>\n",
       "    <tr>\n",
       "      <th>2</th>\n",
       "      <td>28</td>\n",
       "      <td>1</td>\n",
       "      <td>33.000</td>\n",
       "      <td>3.0</td>\n",
       "      <td>no</td>\n",
       "      <td>southeast</td>\n",
       "      <td>4449.46200</td>\n",
       "    </tr>\n",
       "    <tr>\n",
       "      <th>3</th>\n",
       "      <td>33</td>\n",
       "      <td>1</td>\n",
       "      <td>22.705</td>\n",
       "      <td>0.0</td>\n",
       "      <td>no</td>\n",
       "      <td>northwest</td>\n",
       "      <td>21984.47061</td>\n",
       "    </tr>\n",
       "    <tr>\n",
       "      <th>4</th>\n",
       "      <td>32</td>\n",
       "      <td>1</td>\n",
       "      <td>28.880</td>\n",
       "      <td>0.0</td>\n",
       "      <td>no</td>\n",
       "      <td>northwest</td>\n",
       "      <td>3866.85520</td>\n",
       "    </tr>\n",
       "  </tbody>\n",
       "</table>\n",
       "</div>"
      ],
      "text/plain": [
       "   age  sex     bmi  children smoker     region      charges\n",
       "0   19    0  27.900       0.0    yes  southwest  16884.92400\n",
       "1   18    1  33.770       1.0     no  southeast   1725.55230\n",
       "2   28    1  33.000       3.0     no  southeast   4449.46200\n",
       "3   33    1  22.705       0.0     no  northwest  21984.47061\n",
       "4   32    1  28.880       0.0     no  northwest   3866.85520"
      ]
     },
     "execution_count": 3,
     "metadata": {},
     "output_type": "execute_result"
    }
   ],
   "source": [
    "df['sex'] = np.where(df['sex'] == 'female', 0, 1)\n",
    "df.head(5)"
   ]
  },
  {
   "cell_type": "code",
   "execution_count": 4,
   "metadata": {},
   "outputs": [
    {
     "data": {
      "text/html": [
       "<div>\n",
       "<style scoped>\n",
       "    .dataframe tbody tr th:only-of-type {\n",
       "        vertical-align: middle;\n",
       "    }\n",
       "\n",
       "    .dataframe tbody tr th {\n",
       "        vertical-align: top;\n",
       "    }\n",
       "\n",
       "    .dataframe thead th {\n",
       "        text-align: right;\n",
       "    }\n",
       "</style>\n",
       "<table border=\"1\" class=\"dataframe\">\n",
       "  <thead>\n",
       "    <tr style=\"text-align: right;\">\n",
       "      <th></th>\n",
       "      <th>age</th>\n",
       "      <th>sex</th>\n",
       "      <th>bmi</th>\n",
       "      <th>children</th>\n",
       "      <th>smoker</th>\n",
       "      <th>region</th>\n",
       "      <th>charges</th>\n",
       "    </tr>\n",
       "  </thead>\n",
       "  <tbody>\n",
       "    <tr>\n",
       "      <th>0</th>\n",
       "      <td>19</td>\n",
       "      <td>0</td>\n",
       "      <td>27.900</td>\n",
       "      <td>0.0</td>\n",
       "      <td>1</td>\n",
       "      <td>southwest</td>\n",
       "      <td>16884.92400</td>\n",
       "    </tr>\n",
       "    <tr>\n",
       "      <th>1</th>\n",
       "      <td>18</td>\n",
       "      <td>1</td>\n",
       "      <td>33.770</td>\n",
       "      <td>1.0</td>\n",
       "      <td>0</td>\n",
       "      <td>southeast</td>\n",
       "      <td>1725.55230</td>\n",
       "    </tr>\n",
       "    <tr>\n",
       "      <th>2</th>\n",
       "      <td>28</td>\n",
       "      <td>1</td>\n",
       "      <td>33.000</td>\n",
       "      <td>3.0</td>\n",
       "      <td>0</td>\n",
       "      <td>southeast</td>\n",
       "      <td>4449.46200</td>\n",
       "    </tr>\n",
       "    <tr>\n",
       "      <th>3</th>\n",
       "      <td>33</td>\n",
       "      <td>1</td>\n",
       "      <td>22.705</td>\n",
       "      <td>0.0</td>\n",
       "      <td>0</td>\n",
       "      <td>northwest</td>\n",
       "      <td>21984.47061</td>\n",
       "    </tr>\n",
       "    <tr>\n",
       "      <th>4</th>\n",
       "      <td>32</td>\n",
       "      <td>1</td>\n",
       "      <td>28.880</td>\n",
       "      <td>0.0</td>\n",
       "      <td>0</td>\n",
       "      <td>northwest</td>\n",
       "      <td>3866.85520</td>\n",
       "    </tr>\n",
       "  </tbody>\n",
       "</table>\n",
       "</div>"
      ],
      "text/plain": [
       "   age  sex     bmi  children  smoker     region      charges\n",
       "0   19    0  27.900       0.0       1  southwest  16884.92400\n",
       "1   18    1  33.770       1.0       0  southeast   1725.55230\n",
       "2   28    1  33.000       3.0       0  southeast   4449.46200\n",
       "3   33    1  22.705       0.0       0  northwest  21984.47061\n",
       "4   32    1  28.880       0.0       0  northwest   3866.85520"
      ]
     },
     "execution_count": 4,
     "metadata": {},
     "output_type": "execute_result"
    }
   ],
   "source": [
    "df['smoker'] = np.where(df['smoker'] == 'no', 0, 1)\n",
    "df.head(5)"
   ]
  },
  {
   "cell_type": "markdown",
   "metadata": {},
   "source": [
    "- Label encoding Region"
   ]
  },
  {
   "cell_type": "code",
   "execution_count": 5,
   "metadata": {},
   "outputs": [
    {
     "data": {
      "text/html": [
       "<div>\n",
       "<style scoped>\n",
       "    .dataframe tbody tr th:only-of-type {\n",
       "        vertical-align: middle;\n",
       "    }\n",
       "\n",
       "    .dataframe tbody tr th {\n",
       "        vertical-align: top;\n",
       "    }\n",
       "\n",
       "    .dataframe thead th {\n",
       "        text-align: right;\n",
       "    }\n",
       "</style>\n",
       "<table border=\"1\" class=\"dataframe\">\n",
       "  <thead>\n",
       "    <tr style=\"text-align: right;\">\n",
       "      <th></th>\n",
       "      <th>age</th>\n",
       "      <th>sex</th>\n",
       "      <th>bmi</th>\n",
       "      <th>children</th>\n",
       "      <th>smoker</th>\n",
       "      <th>region</th>\n",
       "      <th>charges</th>\n",
       "      <th>region_label</th>\n",
       "    </tr>\n",
       "  </thead>\n",
       "  <tbody>\n",
       "    <tr>\n",
       "      <th>1</th>\n",
       "      <td>18</td>\n",
       "      <td>1</td>\n",
       "      <td>33.77</td>\n",
       "      <td>1.0</td>\n",
       "      <td>0</td>\n",
       "      <td>southeast</td>\n",
       "      <td>1725.5523</td>\n",
       "      <td>2</td>\n",
       "    </tr>\n",
       "    <tr>\n",
       "      <th>2</th>\n",
       "      <td>28</td>\n",
       "      <td>1</td>\n",
       "      <td>33.00</td>\n",
       "      <td>3.0</td>\n",
       "      <td>0</td>\n",
       "      <td>southeast</td>\n",
       "      <td>4449.4620</td>\n",
       "      <td>2</td>\n",
       "    </tr>\n",
       "    <tr>\n",
       "      <th>5</th>\n",
       "      <td>31</td>\n",
       "      <td>0</td>\n",
       "      <td>25.74</td>\n",
       "      <td>0.0</td>\n",
       "      <td>0</td>\n",
       "      <td>southeast</td>\n",
       "      <td>3756.6216</td>\n",
       "      <td>2</td>\n",
       "    </tr>\n",
       "    <tr>\n",
       "      <th>6</th>\n",
       "      <td>46</td>\n",
       "      <td>0</td>\n",
       "      <td>33.44</td>\n",
       "      <td>1.0</td>\n",
       "      <td>0</td>\n",
       "      <td>southeast</td>\n",
       "      <td>8240.5896</td>\n",
       "      <td>2</td>\n",
       "    </tr>\n",
       "    <tr>\n",
       "      <th>11</th>\n",
       "      <td>62</td>\n",
       "      <td>0</td>\n",
       "      <td>26.29</td>\n",
       "      <td>0.0</td>\n",
       "      <td>1</td>\n",
       "      <td>southeast</td>\n",
       "      <td>27808.7251</td>\n",
       "      <td>2</td>\n",
       "    </tr>\n",
       "  </tbody>\n",
       "</table>\n",
       "</div>"
      ],
      "text/plain": [
       "    age  sex    bmi  children  smoker     region     charges  region_label\n",
       "1    18    1  33.77       1.0       0  southeast   1725.5523             2\n",
       "2    28    1  33.00       3.0       0  southeast   4449.4620             2\n",
       "5    31    0  25.74       0.0       0  southeast   3756.6216             2\n",
       "6    46    0  33.44       1.0       0  southeast   8240.5896             2\n",
       "11   62    0  26.29       0.0       1  southeast  27808.7251             2"
      ]
     },
     "execution_count": 5,
     "metadata": {},
     "output_type": "execute_result"
    }
   ],
   "source": [
    "from sklearn.preprocessing import LabelEncoder\n",
    "\n",
    "lb_make = LabelEncoder()\n",
    "df[\"region_label\"] = lb_make.fit_transform(df[\"region\"])\n",
    "\n",
    "# 0 - northeast\n",
    "# 1 - northwest\n",
    "# 2 - southeast\n",
    "# 3 - southwest\n",
    "\n",
    "df[df[\"region_label\"] == 2].head()"
   ]
  },
  {
   "cell_type": "markdown",
   "metadata": {},
   "source": [
    "## Handle missing values"
   ]
  },
  {
   "cell_type": "code",
   "execution_count": 6,
   "metadata": {},
   "outputs": [
    {
     "name": "stdout",
     "output_type": "stream",
     "text": [
      "No of missing values is 39\n"
     ]
    }
   ],
   "source": [
    "miss_count = df.isnull().sum().sum()\n",
    "\n",
    "print(\"No of missing values is\",miss_count)"
   ]
  },
  {
   "cell_type": "code",
   "execution_count": 7,
   "metadata": {},
   "outputs": [
    {
     "data": {
      "text/html": [
       "<div>\n",
       "<style scoped>\n",
       "    .dataframe tbody tr th:only-of-type {\n",
       "        vertical-align: middle;\n",
       "    }\n",
       "\n",
       "    .dataframe tbody tr th {\n",
       "        vertical-align: top;\n",
       "    }\n",
       "\n",
       "    .dataframe thead th {\n",
       "        text-align: right;\n",
       "    }\n",
       "</style>\n",
       "<table border=\"1\" class=\"dataframe\">\n",
       "  <thead>\n",
       "    <tr style=\"text-align: right;\">\n",
       "      <th></th>\n",
       "      <th>age</th>\n",
       "      <th>sex</th>\n",
       "      <th>bmi</th>\n",
       "      <th>children</th>\n",
       "      <th>smoker</th>\n",
       "      <th>region</th>\n",
       "      <th>charges</th>\n",
       "      <th>region_label</th>\n",
       "    </tr>\n",
       "  </thead>\n",
       "  <tbody>\n",
       "    <tr>\n",
       "      <th>19</th>\n",
       "      <td>30</td>\n",
       "      <td>1</td>\n",
       "      <td>NaN</td>\n",
       "      <td>0.0</td>\n",
       "      <td>1</td>\n",
       "      <td>southwest</td>\n",
       "      <td>36837.4670</td>\n",
       "      <td>3</td>\n",
       "    </tr>\n",
       "    <tr>\n",
       "      <th>40</th>\n",
       "      <td>24</td>\n",
       "      <td>0</td>\n",
       "      <td>NaN</td>\n",
       "      <td>0.0</td>\n",
       "      <td>0</td>\n",
       "      <td>northeast</td>\n",
       "      <td>3046.0620</td>\n",
       "      <td>0</td>\n",
       "    </tr>\n",
       "    <tr>\n",
       "      <th>57</th>\n",
       "      <td>18</td>\n",
       "      <td>1</td>\n",
       "      <td>NaN</td>\n",
       "      <td>2.0</td>\n",
       "      <td>1</td>\n",
       "      <td>southeast</td>\n",
       "      <td>34303.1672</td>\n",
       "      <td>2</td>\n",
       "    </tr>\n",
       "    <tr>\n",
       "      <th>68</th>\n",
       "      <td>40</td>\n",
       "      <td>0</td>\n",
       "      <td>36.19</td>\n",
       "      <td>NaN</td>\n",
       "      <td>0</td>\n",
       "      <td>southeast</td>\n",
       "      <td>5920.1041</td>\n",
       "      <td>2</td>\n",
       "    </tr>\n",
       "    <tr>\n",
       "      <th>71</th>\n",
       "      <td>31</td>\n",
       "      <td>1</td>\n",
       "      <td>28.50</td>\n",
       "      <td>NaN</td>\n",
       "      <td>0</td>\n",
       "      <td>northeast</td>\n",
       "      <td>6799.4580</td>\n",
       "      <td>0</td>\n",
       "    </tr>\n",
       "  </tbody>\n",
       "</table>\n",
       "</div>"
      ],
      "text/plain": [
       "    age  sex    bmi  children  smoker     region     charges  region_label\n",
       "19   30    1    NaN       0.0       1  southwest  36837.4670             3\n",
       "40   24    0    NaN       0.0       0  northeast   3046.0620             0\n",
       "57   18    1    NaN       2.0       1  southeast  34303.1672             2\n",
       "68   40    0  36.19       NaN       0  southeast   5920.1041             2\n",
       "71   31    1  28.50       NaN       0  northeast   6799.4580             0"
      ]
     },
     "execution_count": 7,
     "metadata": {},
     "output_type": "execute_result"
    }
   ],
   "source": [
    "# Get rows where the data is missing\n",
    "null_data = df[df.isnull().any(axis=1)]\n",
    "null_data.head(5)"
   ]
  },
  {
   "cell_type": "code",
   "execution_count": 8,
   "metadata": {},
   "outputs": [
    {
     "name": "stdout",
     "output_type": "stream",
     "text": [
      "AxesSubplot(0.125,0.125;0.775x0.755)\n"
     ]
    },
    {
     "data": {
      "image/png": "[encoded data removed]",
      "text/plain": [
       "<Figure size 432x216 with 3 Axes>"
      ]
     },
     "metadata": {
      "needs_background": "light"
     },
     "output_type": "display_data"
    }
   ],
   "source": [
    "missing_bar  = msno.bar(df, figsize=(6, 3), fontsize=12, color='magenta')\n",
    "\n",
    "print(missing_bar)"
   ]
  },
  {
   "cell_type": "markdown",
   "metadata": {},
   "source": [
    "- Find the correlation between data to determine suitable method to handle missing data."
   ]
  },
  {
   "cell_type": "code",
   "execution_count": 9,
   "metadata": {},
   "outputs": [
    {
     "name": "stdout",
     "output_type": "stream",
     "text": [
      "AxesSubplot(0.125,0.125;0.62x0.755)\n"
     ]
    },
    {
     "data": {
      "image/png": "[encoded data removed]",
      "text/plain": [
       "<Figure size 432x216 with 2 Axes>"
      ]
     },
     "metadata": {
      "needs_background": "light"
     },
     "output_type": "display_data"
    }
   ],
   "source": [
    "print(msno.heatmap(df, figsize=(6, 3), fontsize=12))"
   ]
  },
  {
   "cell_type": "markdown",
   "metadata": {},
   "source": [
    "Only BMI and Children count are missing and it only amounts to small part in data(<3%)."
   ]
  },
  {
   "cell_type": "markdown",
   "metadata": {},
   "source": [
    "We can either drop the corresponding columns or replace it with mean."
   ]
  },
  {
   "cell_type": "code",
   "execution_count": 10,
   "metadata": {},
   "outputs": [
    {
     "data": {
      "text/plain": [
       "(30.65165011459127, 30.651650114591273)"
      ]
     },
     "execution_count": 10,
     "metadata": {},
     "output_type": "execute_result"
    }
   ],
   "source": [
    "# Compute mean with and without mean replacement of missing data.\n",
    "df['bmi'].mean(), df['bmi'].fillna(df['bmi'].mean()).mean()"
   ]
  },
  {
   "cell_type": "code",
   "execution_count": 11,
   "metadata": {},
   "outputs": [
    {
     "data": {
      "text/plain": [
       "(0    0.0\n",
       " dtype: float64,\n",
       " 1.0837070254110612)"
      ]
     },
     "execution_count": 11,
     "metadata": {},
     "output_type": "execute_result"
    }
   ],
   "source": [
    "df['children'].mode(), df['children'].fillna(int(df['children'].mode())).mean()"
   ]
  },
  {
   "cell_type": "markdown",
   "metadata": {},
   "source": [
    "Mean with replacement and without replacement are nearly the same.Therefore we can proceed with mean value replacement."
   ]
  },
  {
   "cell_type": "code",
   "execution_count": 12,
   "metadata": {},
   "outputs": [
    {
     "name": "stdout",
     "output_type": "stream",
     "text": [
      "No of missing values is 0\n"
     ]
    }
   ],
   "source": [
    "df['bmi'].fillna(df['bmi'].mean(), inplace=True)\n",
    "df['children'].fillna(int(df['children'].mode()), inplace=True)\n",
    "\n",
    "miss_count = df.isnull().sum().sum()\n",
    "\n",
    "print(\"No of missing values is\",miss_count)"
   ]
  },
  {
   "cell_type": "code",
   "execution_count": 13,
   "metadata": {},
   "outputs": [],
   "source": [
    "df.to_csv(\"insuarnce_viz.csv\", index=False)"
   ]
  },
  {
   "cell_type": "markdown",
   "metadata": {},
   "source": [
    "## Dummy variables"
   ]
  },
  {
   "cell_type": "code",
   "execution_count": 14,
   "metadata": {},
   "outputs": [
    {
     "data": {
      "text/html": [
       "<div>\n",
       "<style scoped>\n",
       "    .dataframe tbody tr th:only-of-type {\n",
       "        vertical-align: middle;\n",
       "    }\n",
       "\n",
       "    .dataframe tbody tr th {\n",
       "        vertical-align: top;\n",
       "    }\n",
       "\n",
       "    .dataframe thead th {\n",
       "        text-align: right;\n",
       "    }\n",
       "</style>\n",
       "<table border=\"1\" class=\"dataframe\">\n",
       "  <thead>\n",
       "    <tr style=\"text-align: right;\">\n",
       "      <th></th>\n",
       "      <th>northeast</th>\n",
       "      <th>northwest</th>\n",
       "      <th>southeast</th>\n",
       "      <th>southwest</th>\n",
       "    </tr>\n",
       "  </thead>\n",
       "  <tbody>\n",
       "    <tr>\n",
       "      <th>0</th>\n",
       "      <td>0</td>\n",
       "      <td>0</td>\n",
       "      <td>0</td>\n",
       "      <td>1</td>\n",
       "    </tr>\n",
       "    <tr>\n",
       "      <th>1</th>\n",
       "      <td>0</td>\n",
       "      <td>0</td>\n",
       "      <td>1</td>\n",
       "      <td>0</td>\n",
       "    </tr>\n",
       "    <tr>\n",
       "      <th>2</th>\n",
       "      <td>0</td>\n",
       "      <td>0</td>\n",
       "      <td>1</td>\n",
       "      <td>0</td>\n",
       "    </tr>\n",
       "    <tr>\n",
       "      <th>3</th>\n",
       "      <td>0</td>\n",
       "      <td>1</td>\n",
       "      <td>0</td>\n",
       "      <td>0</td>\n",
       "    </tr>\n",
       "    <tr>\n",
       "      <th>4</th>\n",
       "      <td>0</td>\n",
       "      <td>1</td>\n",
       "      <td>0</td>\n",
       "      <td>0</td>\n",
       "    </tr>\n",
       "  </tbody>\n",
       "</table>\n",
       "</div>"
      ],
      "text/plain": [
       "   northeast  northwest  southeast  southwest\n",
       "0          0          0          0          1\n",
       "1          0          0          1          0\n",
       "2          0          0          1          0\n",
       "3          0          1          0          0\n",
       "4          0          1          0          0"
      ]
     },
     "execution_count": 14,
     "metadata": {},
     "output_type": "execute_result"
    }
   ],
   "source": [
    "# One hot encoding\n",
    "df_enc = pd.get_dummies(df.region)\n",
    "df_enc.head(5)"
   ]
  },
  {
   "cell_type": "code",
   "execution_count": 15,
   "metadata": {},
   "outputs": [
    {
     "data": {
      "text/html": [
       "<div>\n",
       "<style scoped>\n",
       "    .dataframe tbody tr th:only-of-type {\n",
       "        vertical-align: middle;\n",
       "    }\n",
       "\n",
       "    .dataframe tbody tr th {\n",
       "        vertical-align: top;\n",
       "    }\n",
       "\n",
       "    .dataframe thead th {\n",
       "        text-align: right;\n",
       "    }\n",
       "</style>\n",
       "<table border=\"1\" class=\"dataframe\">\n",
       "  <thead>\n",
       "    <tr style=\"text-align: right;\">\n",
       "      <th></th>\n",
       "      <th>northeast</th>\n",
       "      <th>northwest</th>\n",
       "      <th>southeast</th>\n",
       "      <th>southwest</th>\n",
       "      <th>age</th>\n",
       "      <th>sex</th>\n",
       "      <th>bmi</th>\n",
       "      <th>children</th>\n",
       "      <th>smoker</th>\n",
       "      <th>region</th>\n",
       "      <th>charges</th>\n",
       "    </tr>\n",
       "  </thead>\n",
       "  <tbody>\n",
       "    <tr>\n",
       "      <th>0</th>\n",
       "      <td>0</td>\n",
       "      <td>0</td>\n",
       "      <td>0</td>\n",
       "      <td>1</td>\n",
       "      <td>19</td>\n",
       "      <td>0</td>\n",
       "      <td>27.900</td>\n",
       "      <td>0.0</td>\n",
       "      <td>1</td>\n",
       "      <td>southwest</td>\n",
       "      <td>16884.92400</td>\n",
       "    </tr>\n",
       "    <tr>\n",
       "      <th>1</th>\n",
       "      <td>0</td>\n",
       "      <td>0</td>\n",
       "      <td>1</td>\n",
       "      <td>0</td>\n",
       "      <td>18</td>\n",
       "      <td>1</td>\n",
       "      <td>33.770</td>\n",
       "      <td>1.0</td>\n",
       "      <td>0</td>\n",
       "      <td>southeast</td>\n",
       "      <td>1725.55230</td>\n",
       "    </tr>\n",
       "    <tr>\n",
       "      <th>2</th>\n",
       "      <td>0</td>\n",
       "      <td>0</td>\n",
       "      <td>1</td>\n",
       "      <td>0</td>\n",
       "      <td>28</td>\n",
       "      <td>1</td>\n",
       "      <td>33.000</td>\n",
       "      <td>3.0</td>\n",
       "      <td>0</td>\n",
       "      <td>southeast</td>\n",
       "      <td>4449.46200</td>\n",
       "    </tr>\n",
       "    <tr>\n",
       "      <th>3</th>\n",
       "      <td>0</td>\n",
       "      <td>1</td>\n",
       "      <td>0</td>\n",
       "      <td>0</td>\n",
       "      <td>33</td>\n",
       "      <td>1</td>\n",
       "      <td>22.705</td>\n",
       "      <td>0.0</td>\n",
       "      <td>0</td>\n",
       "      <td>northwest</td>\n",
       "      <td>21984.47061</td>\n",
       "    </tr>\n",
       "    <tr>\n",
       "      <th>4</th>\n",
       "      <td>0</td>\n",
       "      <td>1</td>\n",
       "      <td>0</td>\n",
       "      <td>0</td>\n",
       "      <td>32</td>\n",
       "      <td>1</td>\n",
       "      <td>28.880</td>\n",
       "      <td>0.0</td>\n",
       "      <td>0</td>\n",
       "      <td>northwest</td>\n",
       "      <td>3866.85520</td>\n",
       "    </tr>\n",
       "  </tbody>\n",
       "</table>\n",
       "</div>"
      ],
      "text/plain": [
       "   northeast  northwest  southeast  southwest  age  sex     bmi  children  \\\n",
       "0          0          0          0          1   19    0  27.900       0.0   \n",
       "1          0          0          1          0   18    1  33.770       1.0   \n",
       "2          0          0          1          0   28    1  33.000       3.0   \n",
       "3          0          1          0          0   33    1  22.705       0.0   \n",
       "4          0          1          0          0   32    1  28.880       0.0   \n",
       "\n",
       "   smoker     region      charges  \n",
       "0       1  southwest  16884.92400  \n",
       "1       0  southeast   1725.55230  \n",
       "2       0  southeast   4449.46200  \n",
       "3       0  northwest  21984.47061  \n",
       "4       0  northwest   3866.85520  "
      ]
     },
     "execution_count": 15,
     "metadata": {},
     "output_type": "execute_result"
    }
   ],
   "source": [
    "# Concat new rows with original data frame.\n",
    "df = pd.concat([df_enc, df], axis=1)\n",
    "\n",
    "# Drop category after one hot encoding.\n",
    "# df = df.drop([\"region\"], axis=1)\n",
    "df = df.drop([\"region_label\"], axis=1)\n",
    "df.head(5)"
   ]
  },
  {
   "cell_type": "markdown",
   "metadata": {},
   "source": [
    "## Data Scaling"
   ]
  },
  {
   "cell_type": "code",
   "execution_count": 16,
   "metadata": {},
   "outputs": [
    {
     "data": {
      "text/html": [
       "<div>\n",
       "<style scoped>\n",
       "    .dataframe tbody tr th:only-of-type {\n",
       "        vertical-align: middle;\n",
       "    }\n",
       "\n",
       "    .dataframe tbody tr th {\n",
       "        vertical-align: top;\n",
       "    }\n",
       "\n",
       "    .dataframe thead th {\n",
       "        text-align: right;\n",
       "    }\n",
       "</style>\n",
       "<table border=\"1\" class=\"dataframe\">\n",
       "  <thead>\n",
       "    <tr style=\"text-align: right;\">\n",
       "      <th></th>\n",
       "      <th>northeast</th>\n",
       "      <th>northwest</th>\n",
       "      <th>southeast</th>\n",
       "      <th>southwest</th>\n",
       "      <th>age</th>\n",
       "      <th>sex</th>\n",
       "      <th>bmi</th>\n",
       "      <th>children</th>\n",
       "      <th>smoker</th>\n",
       "      <th>charges</th>\n",
       "    </tr>\n",
       "  </thead>\n",
       "  <tbody>\n",
       "    <tr>\n",
       "      <th>count</th>\n",
       "      <td>1338.000000</td>\n",
       "      <td>1338.000000</td>\n",
       "      <td>1338.000000</td>\n",
       "      <td>1338.000000</td>\n",
       "      <td>1338.000000</td>\n",
       "      <td>1338.000000</td>\n",
       "      <td>1.338000e+03</td>\n",
       "      <td>1338.000000</td>\n",
       "      <td>1338.000000</td>\n",
       "      <td>1.338000e+03</td>\n",
       "    </tr>\n",
       "    <tr>\n",
       "      <th>mean</th>\n",
       "      <td>0.242152</td>\n",
       "      <td>0.242900</td>\n",
       "      <td>0.272048</td>\n",
       "      <td>0.242900</td>\n",
       "      <td>39.207025</td>\n",
       "      <td>0.505232</td>\n",
       "      <td>5.157807e-16</td>\n",
       "      <td>1.083707</td>\n",
       "      <td>0.204783</td>\n",
       "      <td>-5.758556e-17</td>\n",
       "    </tr>\n",
       "    <tr>\n",
       "      <th>std</th>\n",
       "      <td>0.428546</td>\n",
       "      <td>0.428995</td>\n",
       "      <td>0.445181</td>\n",
       "      <td>0.428995</td>\n",
       "      <td>14.049960</td>\n",
       "      <td>0.500160</td>\n",
       "      <td>1.000374e+00</td>\n",
       "      <td>1.199172</td>\n",
       "      <td>0.403694</td>\n",
       "      <td>1.000374e+00</td>\n",
       "    </tr>\n",
       "    <tr>\n",
       "      <th>min</th>\n",
       "      <td>0.000000</td>\n",
       "      <td>0.000000</td>\n",
       "      <td>0.000000</td>\n",
       "      <td>0.000000</td>\n",
       "      <td>18.000000</td>\n",
       "      <td>0.000000</td>\n",
       "      <td>-2.427075e+00</td>\n",
       "      <td>0.000000</td>\n",
       "      <td>0.000000</td>\n",
       "      <td>-1.003557e+00</td>\n",
       "    </tr>\n",
       "    <tr>\n",
       "      <th>25%</th>\n",
       "      <td>0.000000</td>\n",
       "      <td>0.000000</td>\n",
       "      <td>0.000000</td>\n",
       "      <td>0.000000</td>\n",
       "      <td>27.000000</td>\n",
       "      <td>0.000000</td>\n",
       "      <td>-7.129083e-01</td>\n",
       "      <td>0.000000</td>\n",
       "      <td>0.000000</td>\n",
       "      <td>-7.046504e-01</td>\n",
       "    </tr>\n",
       "    <tr>\n",
       "      <th>50%</th>\n",
       "      <td>0.000000</td>\n",
       "      <td>0.000000</td>\n",
       "      <td>0.000000</td>\n",
       "      <td>0.000000</td>\n",
       "      <td>39.000000</td>\n",
       "      <td>1.000000</td>\n",
       "      <td>-2.505275e-02</td>\n",
       "      <td>1.000000</td>\n",
       "      <td>0.000000</td>\n",
       "      <td>-3.212089e-01</td>\n",
       "    </tr>\n",
       "    <tr>\n",
       "      <th>75%</th>\n",
       "      <td>0.000000</td>\n",
       "      <td>0.000000</td>\n",
       "      <td>1.000000</td>\n",
       "      <td>0.000000</td>\n",
       "      <td>51.000000</td>\n",
       "      <td>1.000000</td>\n",
       "      <td>6.351317e-01</td>\n",
       "      <td>2.000000</td>\n",
       "      <td>0.000000</td>\n",
       "      <td>2.783441e-01</td>\n",
       "    </tr>\n",
       "    <tr>\n",
       "      <th>max</th>\n",
       "      <td>1.000000</td>\n",
       "      <td>1.000000</td>\n",
       "      <td>1.000000</td>\n",
       "      <td>1.000000</td>\n",
       "      <td>64.000000</td>\n",
       "      <td>1.000000</td>\n",
       "      <td>3.713445e+00</td>\n",
       "      <td>5.000000</td>\n",
       "      <td>1.000000</td>\n",
       "      <td>4.171663e+00</td>\n",
       "    </tr>\n",
       "  </tbody>\n",
       "</table>\n",
       "</div>"
      ],
      "text/plain": [
       "         northeast    northwest    southeast    southwest          age  \\\n",
       "count  1338.000000  1338.000000  1338.000000  1338.000000  1338.000000   \n",
       "mean      0.242152     0.242900     0.272048     0.242900    39.207025   \n",
       "std       0.428546     0.428995     0.445181     0.428995    14.049960   \n",
       "min       0.000000     0.000000     0.000000     0.000000    18.000000   \n",
       "25%       0.000000     0.000000     0.000000     0.000000    27.000000   \n",
       "50%       0.000000     0.000000     0.000000     0.000000    39.000000   \n",
       "75%       0.000000     0.000000     1.000000     0.000000    51.000000   \n",
       "max       1.000000     1.000000     1.000000     1.000000    64.000000   \n",
       "\n",
       "               sex           bmi     children       smoker       charges  \n",
       "count  1338.000000  1.338000e+03  1338.000000  1338.000000  1.338000e+03  \n",
       "mean      0.505232  5.157807e-16     1.083707     0.204783 -5.758556e-17  \n",
       "std       0.500160  1.000374e+00     1.199172     0.403694  1.000374e+00  \n",
       "min       0.000000 -2.427075e+00     0.000000     0.000000 -1.003557e+00  \n",
       "25%       0.000000 -7.129083e-01     0.000000     0.000000 -7.046504e-01  \n",
       "50%       1.000000 -2.505275e-02     1.000000     0.000000 -3.212089e-01  \n",
       "75%       1.000000  6.351317e-01     2.000000     0.000000  2.783441e-01  \n",
       "max       1.000000  3.713445e+00     5.000000     1.000000  4.171663e+00  "
      ]
     },
     "execution_count": 16,
     "metadata": {},
     "output_type": "execute_result"
    }
   ],
   "source": [
    "from sklearn import preprocessing\n",
    "\n",
    "cols_to_scale = ['bmi', \"charges\"]\n",
    "\n",
    "# scaler = preprocessing.MaxAbsScaler()\n",
    "# scaler = preprocessing.MinMaxScaler()\n",
    "scaler = preprocessing.StandardScaler()\n",
    "\n",
    "def scaleColumns(df, cols_to_scale):\n",
    "    for col in cols_to_scale:\n",
    "        df[col] = pd.DataFrame(scaler.fit_transform(pd.DataFrame(df[col])),columns=[col])\n",
    "    return df\n",
    "\n",
    "df_sc = scaleColumns(df, cols_to_scale)\n",
    "\n",
    "df_sc.describe()"
   ]
  },
  {
   "cell_type": "markdown",
   "metadata": {},
   "source": [
    "### Correlation Analysis"
   ]
  },
  {
   "cell_type": "code",
   "execution_count": 17,
   "metadata": {},
   "outputs": [
    {
     "data": {
      "image/png": "[encoded data removed]",
      "text/plain": [
       "<Figure size 792x504 with 2 Axes>"
      ]
     },
     "metadata": {
      "needs_background": "light"
     },
     "output_type": "display_data"
    }
   ],
   "source": [
    "import seaborn as sns\n",
    "\n",
    "fig, ax = plt.subplots()\n",
    "fig.set_size_inches(11, 7)\n",
    "sns.heatmap(df.corr(), annot=True, fmt='.1f', cmap = 'YlGnBu', center=0, ax=ax)\n",
    "plt.show()"
   ]
  },
  {
   "cell_type": "markdown",
   "metadata": {},
   "source": [
    "Insurance chardges depends on Smiking habit , bmi , no of children and the location of individual."
   ]
  },
  {
   "cell_type": "markdown",
   "metadata": {},
   "source": [
    "### Data Visualisation"
   ]
  },
  {
   "cell_type": "markdown",
   "metadata": {},
   "source": [
    "- Age Histogram"
   ]
  },
  {
   "cell_type": "code",
   "execution_count": 18,
   "metadata": {},
   "outputs": [
    {
     "name": "stdout",
     "output_type": "stream",
     "text": [
      "AxesSubplot(0.125,0.125;0.775x0.755)\n"
     ]
    },
    {
     "data": {
      "image/png": "[encoded data removed]",
      "text/plain": [
       "<Figure size 432x288 with 1 Axes>"
      ]
     },
     "metadata": {
      "needs_background": "light"
     },
     "output_type": "display_data"
    }
   ],
   "source": [
    "import matplotlib.pyplot as plt\n",
    "\n",
    "print(df.age.hist())"
   ]
  },
  {
   "cell_type": "markdown",
   "metadata": {},
   "source": [
    "- BMI Histogram"
   ]
  },
  {
   "cell_type": "code",
   "execution_count": 19,
   "metadata": {},
   "outputs": [
    {
     "name": "stdout",
     "output_type": "stream",
     "text": [
      "AxesSubplot(0.125,0.125;0.775x0.755)\n"
     ]
    },
    {
     "data": {
      "image/png": "[encoded data removed]",
      "text/plain": [
       "<Figure size 432x288 with 1 Axes>"
      ]
     },
     "metadata": {
      "needs_background": "light"
     },
     "output_type": "display_data"
    }
   ],
   "source": [
    "import matplotlib.pyplot as plt\n",
    "\n",
    "print(df.bmi.hist())"
   ]
  },
  {
   "cell_type": "markdown",
   "metadata": {},
   "source": [
    " - Insurances Charges Histogram"
   ]
  },
  {
   "cell_type": "code",
   "execution_count": 20,
   "metadata": {},
   "outputs": [
    {
     "name": "stdout",
     "output_type": "stream",
     "text": [
      "AxesSubplot(0.125,0.125;0.775x0.755)\n"
     ]
    },
    {
     "data": {
      "image/png": "[encoded data removed]",
      "text/plain": [
       "<Figure size 432x288 with 1 Axes>"
      ]
     },
     "metadata": {
      "needs_background": "light"
     },
     "output_type": "display_data"
    }
   ],
   "source": [
    "import matplotlib.pyplot as plt\n",
    "\n",
    "print(df.charges.hist())"
   ]
  },
  {
   "cell_type": "markdown",
   "metadata": {},
   "source": [
    "- Age vs BMI Scatter plot"
   ]
  },
  {
   "cell_type": "code",
   "execution_count": 21,
   "metadata": {},
   "outputs": [
    {
     "data": {
      "image/png": "[encoded data removed]",
      "text/plain": [
       "<Figure size 432x432 with 1 Axes>"
      ]
     },
     "metadata": {
      "needs_background": "light"
     },
     "output_type": "display_data"
    }
   ],
   "source": [
    "import matplotlib.pyplot as plt\n",
    "\n",
    "fig, ax = plt.subplots(figsize=(6,6))\n",
    "\n",
    "ax.scatter(df['age'], df['bmi'])\n",
    "ax.set_xlabel('Age')\n",
    "ax.set_ylabel('BMI')\n",
    "plt.show()"
   ]
  },
  {
   "cell_type": "markdown",
   "metadata": {},
   "source": [
    "- BMI vs Insurance Charges Scatter plot"
   ]
  },
  {
   "cell_type": "code",
   "execution_count": 22,
   "metadata": {},
   "outputs": [
    {
     "data": {
      "image/png": "[encoded data removed]",
      "text/plain": [
       "<Figure size 864x432 with 1 Axes>"
      ]
     },
     "metadata": {
      "needs_background": "light"
     },
     "output_type": "display_data"
    }
   ],
   "source": [
    "import matplotlib.pyplot as plt\n",
    "\n",
    "plt.figure(figsize = (12,6))\n",
    "plt.style.use('seaborn-whitegrid')\n",
    "\n",
    "plt.title(\"BMI vs Insurance Charges\")\n",
    "\n",
    "mot = plt.scatter(\"bmi\", \"charges\", c =\"red\", \n",
    "            linewidths = 2, edgecolor =\"blue\", \n",
    "            s = 50, alpha = 0.5, data = df)\n",
    "\n",
    "plt.xlabel('BMI')\n",
    "plt.ylabel('Insurance Charges')\n",
    "plt.show()"
   ]
  },
  {
   "cell_type": "markdown",
   "metadata": {},
   "source": [
    "- Age vs Insurance Charges Scatter plot"
   ]
  },
  {
   "cell_type": "code",
   "execution_count": 23,
   "metadata": {},
   "outputs": [
    {
     "data": {
      "image/png": "[encoded data removed]",
      "text/plain": [
       "<Figure size 864x432 with 1 Axes>"
      ]
     },
     "metadata": {},
     "output_type": "display_data"
    }
   ],
   "source": [
    "import matplotlib.pyplot as plt\n",
    "\n",
    "plt.figure(figsize = (12,6))\n",
    "plt.style.use('seaborn-whitegrid')\n",
    "\n",
    "plt.title(\"Age vs Insurance Charges\")\n",
    "\n",
    "fat = plt.scatter(\"age\", \"charges\", c =\"yellow\",  \n",
    "            linewidths = 2, edgecolor =\"grey\", marker =\"x\",  \n",
    "            s = 50, data = df) \n",
    "\n",
    "plt.xlabel('Age')\n",
    "plt.ylabel('Insurance Charges')\n",
    "plt.show()"
   ]
  },
  {
   "cell_type": "markdown",
   "metadata": {},
   "source": [
    "- Distribution of Binary Features"
   ]
  },
  {
   "cell_type": "code",
   "execution_count": 24,
   "metadata": {},
   "outputs": [
    {
     "data": {
      "image/png": "[encoded data removed]",
      "text/plain": [
       "<Figure size 720x360 with 2 Axes>"
      ]
     },
     "metadata": {},
     "output_type": "display_data"
    }
   ],
   "source": [
    "# Countplot for Binary Features\n",
    "sns.set_style('white') \n",
    "fig, ax = plt.subplots(1,2,figsize=(10,5))\n",
    "\n",
    "sns.countplot(df['sex'], palette='Pastel2', ax=ax[0])\n",
    "sns.countplot(df['smoker'], palette='Pastel2', ax=ax[1])\n",
    "\n",
    "plt.show()"
   ]
  },
  {
   "cell_type": "markdown",
   "metadata": {},
   "source": [
    "### Tableau"
   ]
  },
  {
   "cell_type": "markdown",
   "metadata": {},
   "source": [
    " Please visit the below link for Tableau Visualisation"
   ]
  },
  {
   "cell_type": "markdown",
   "metadata": {},
   "source": [
    "https://public.tableau.com/views/InsuranceAnalysis_16163072902500/Dashboard1?:language=en&:display_count=y&publish=yes&:origin=viz_share_link"
   ]
  },
  {
   "cell_type": "markdown",
   "metadata": {},
   "source": [
    "#### Tableau - Plot 1 : Rect Chart"
   ]
  },
  {
   "cell_type": "code",
   "execution_count": 25,
   "metadata": {
    "scrolled": true
   },
   "outputs": [
    {
     "data": {
      "text/html": [
       "\n",
       "<div class='tableauPlaceholder' id='viz1616512406146' style='position: relative'>\n",
       "<noscript><a href='#'><img alt=' ' src='https:&#47;&#47;public.tableau.com&#47;static&#47;images&#47;In&#47;InsuranceAnalysis_16163072902500&#47;Age&#47;1_rss.png' style='border: none' /></a></noscript>\n",
       "<object class='tableauViz'  style='display:none;'>\n",
       "<param name='host_url' value='https%3A%2F%2Fpublic.tableau.com%2F' />\n",
       "<param name='embed_code_version' value='3' />\n",
       "<param name='site_root' value='' />\n",
       "<param name='name' value='InsuranceAnalysis_16163072902500&#47;Age' />\n",
       "<param name='tabs' value='yes' />\n",
       "<param name='toolbar' value='yes' /\n",
       "<param name='static_image' value='https:&#47;&#47;public.tableau.com&#47;static&#47;images&#47;In&#47;InsuranceAnalysis_16163072902500&#47;Age&#47;1.png' />\n",
       "<param name='animate_transition' value='yes' />\n",
       "<param name='display_static_image' value='yes' />\n",
       "<param name='display_spinner' value='yes' />\n",
       "<param name='display_overlay' value='yes' />\n",
       "<param name='display_count' value='yes' />\n",
       "<param name='language' value='en' />\n",
       "<param name='filter' value='publish=yes' />\n",
       "</object>\n",
       "</div>                \n",
       "\n",
       "<script type='text/javascript'>                    \n",
       "var divElement = document.getElementById('viz1616512406146');                    \n",
       "var vizElement = divElement.getElementsByTagName('object')[0];                    \n",
       "vizElement.style.width='100%';vizElement.style.height=(divElement.offsetWidth*0.75)+'px';                    \n",
       "var scriptElement = document.createElement('script');                    \n",
       "scriptElement.src = 'https://public.tableau.com/javascripts/api/viz_v1.js';                    \n",
       "vizElement.parentNode.insertBefore(scriptElement, vizElement);               \n",
       "</script>\n"
      ],
      "text/plain": [
       "<IPython.core.display.HTML object>"
      ]
     },
     "metadata": {},
     "output_type": "display_data"
    }
   ],
   "source": [
    "%%HTML\n",
    "\n",
    "<div class='tableauPlaceholder' id='viz1616512406146' style='position: relative'>\n",
    "<noscript><a href='#'><img alt=' ' src='https:&#47;&#47;public.tableau.com&#47;static&#47;images&#47;In&#47;InsuranceAnalysis_16163072902500&#47;Age&#47;1_rss.png' style='border: none' /></a></noscript>\n",
    "<object class='tableauViz'  style='display:none;'>\n",
    "<param name='host_url' value='https%3A%2F%2Fpublic.tableau.com%2F' />\n",
    "<param name='embed_code_version' value='3' />\n",
    "<param name='site_root' value='' />\n",
    "<param name='name' value='InsuranceAnalysis_16163072902500&#47;Age' />\n",
    "<param name='tabs' value='yes' />\n",
    "<param name='toolbar' value='yes' /\n",
    "<param name='static_image' value='https:&#47;&#47;public.tableau.com&#47;static&#47;images&#47;In&#47;InsuranceAnalysis_16163072902500&#47;Age&#47;1.png' />\n",
    "<param name='animate_transition' value='yes' />\n",
    "<param name='display_static_image' value='yes' />\n",
    "<param name='display_spinner' value='yes' />\n",
    "<param name='display_overlay' value='yes' />\n",
    "<param name='display_count' value='yes' />\n",
    "<param name='language' value='en' />\n",
    "<param name='filter' value='publish=yes' />\n",
    "</object>\n",
    "</div>                \n",
    "\n",
    "<script type='text/javascript'>                    \n",
    "var divElement = document.getElementById('viz1616512406146');                    \n",
    "var vizElement = divElement.getElementsByTagName('object')[0];                    \n",
    "vizElement.style.width='100%';vizElement.style.height=(divElement.offsetWidth*0.75)+'px';                    \n",
    "var scriptElement = document.createElement('script');                    \n",
    "scriptElement.src = 'https://public.tableau.com/javascripts/api/viz_v1.js';                    \n",
    "vizElement.parentNode.insertBefore(scriptElement, vizElement);               \n",
    "</script>"
   ]
  },
  {
   "cell_type": "markdown",
   "metadata": {},
   "source": [
    "#### Tableau - Plot 2 : Scatter Plot"
   ]
  },
  {
   "cell_type": "code",
   "execution_count": 26,
   "metadata": {},
   "outputs": [
    {
     "data": {
      "text/html": [
       "\n",
       "<div class='tableauPlaceholder' id='viz1616512445707' style='position: relative'><noscript><a href='#'>\n",
       "<img alt=' ' src='https:&#47;&#47;public.tableau.com&#47;static&#47;images&#47;In&#47;InsuranceAnalysis_16163072902500&#47;AgevsBMIScatterplot&#47;1_rss.png' style='border: none' /></a>\n",
       "</noscript><object class='tableauViz'  style='display:none;'>\n",
       "<param name='host_url' value='https%3A%2F%2Fpublic.tableau.com%2F' />\n",
       "<param name='embed_code_version' value='3' /> \n",
       "<param name='site_root' value='' />\n",
       "<param name='name' value='InsuranceAnalysis_16163072902500&#47;AgevsBMIScatterplot' />\n",
       "<param name='tabs' value='yes' />\n",
       "<param name='toolbar' value='yes' />\n",
       "<param name='static_image' value='https:&#47;&#47;public.tableau.com&#47;static&#47;images&#47;In&#47;InsuranceAnalysis_16163072902500&#47;AgevsBMIScatterplot&#47;1.png' />\n",
       "<param name='animate_transition' value='yes' />\n",
       "<param name='display_static_image' value='yes' />\n",
       "<param name='display_spinner' value='yes' />\n",
       "<param name='display_overlay' value='yes' />\n",
       "<param name='display_count' value='yes' />\n",
       "<param name='language' value='en' />\n",
       "<param name='filter' value='publish=yes' />\n",
       "</object>\n",
       "</div>                \n",
       "\n",
       "<script type='text/javascript'>                    \n",
       "var divElement = document.getElementById('viz1616512445707');                    \n",
       "var vizElement = divElement.getElementsByTagName('object')[0];                    \n",
       "vizElement.style.width='100%';vizElement.style.height=(divElement.offsetWidth*0.75)+'px';                    \n",
       "var scriptElement = document.createElement('script');                    \n",
       "scriptElement.src = 'https://public.tableau.com/javascripts/api/viz_v1.js';                    \n",
       "vizElement.parentNode.insertBefore(scriptElement, vizElement);                \n",
       "</script>\n"
      ],
      "text/plain": [
       "<IPython.core.display.HTML object>"
      ]
     },
     "metadata": {},
     "output_type": "display_data"
    }
   ],
   "source": [
    "%%HTML\n",
    "\n",
    "<div class='tableauPlaceholder' id='viz1616512445707' style='position: relative'><noscript><a href='#'>\n",
    "<img alt=' ' src='https:&#47;&#47;public.tableau.com&#47;static&#47;images&#47;In&#47;InsuranceAnalysis_16163072902500&#47;AgevsBMIScatterplot&#47;1_rss.png' style='border: none' /></a>\n",
    "</noscript><object class='tableauViz'  style='display:none;'>\n",
    "<param name='host_url' value='https%3A%2F%2Fpublic.tableau.com%2F' />\n",
    "<param name='embed_code_version' value='3' /> \n",
    "<param name='site_root' value='' />\n",
    "<param name='name' value='InsuranceAnalysis_16163072902500&#47;AgevsBMIScatterplot' />\n",
    "<param name='tabs' value='yes' />\n",
    "<param name='toolbar' value='yes' />\n",
    "<param name='static_image' value='https:&#47;&#47;public.tableau.com&#47;static&#47;images&#47;In&#47;InsuranceAnalysis_16163072902500&#47;AgevsBMIScatterplot&#47;1.png' />\n",
    "<param name='animate_transition' value='yes' />\n",
    "<param name='display_static_image' value='yes' />\n",
    "<param name='display_spinner' value='yes' />\n",
    "<param name='display_overlay' value='yes' />\n",
    "<param name='display_count' value='yes' />\n",
    "<param name='language' value='en' />\n",
    "<param name='filter' value='publish=yes' />\n",
    "</object>\n",
    "</div>                \n",
    "\n",
    "<script type='text/javascript'>                    \n",
    "var divElement = document.getElementById('viz1616512445707');                    \n",
    "var vizElement = divElement.getElementsByTagName('object')[0];                    \n",
    "vizElement.style.width='100%';vizElement.style.height=(divElement.offsetWidth*0.75)+'px';                    \n",
    "var scriptElement = document.createElement('script');                    \n",
    "scriptElement.src = 'https://public.tableau.com/javascripts/api/viz_v1.js';                    \n",
    "vizElement.parentNode.insertBefore(scriptElement, vizElement);                \n",
    "</script>"
   ]
  },
  {
   "cell_type": "markdown",
   "metadata": {},
   "source": [
    "#### Tableau - Plot 3 : Line Plot"
   ]
  },
  {
   "cell_type": "code",
   "execution_count": 27,
   "metadata": {},
   "outputs": [
    {
     "data": {
      "text/html": [
       "\n",
       "<div class='tableauPlaceholder' id='viz1616512465515' style='position: relative'>\n",
       "<noscript><a href='#'>\n",
       "<img alt=' ' src='https:&#47;&#47;public.tableau.com&#47;static&#47;images&#47;In&#47;InsuranceAnalysis_16163072902500&#47;AgevsSmoking&#47;1_rss.png' style='border: none' /></a>\n",
       "</noscript>\n",
       "<object class='tableauViz'  style='display:none;'><param name='host_url' value='https%3A%2F%2Fpublic.tableau.com%2F' /> \n",
       "<param name='embed_code_version' value='3' /> \n",
       "<param name='site_root' value='' />\n",
       "<param name='name' value='InsuranceAnalysis_16163072902500&#47;AgevsSmoking' />\n",
       "<param name='tabs' value='yes' />\n",
       "<param name='toolbar' value='yes' />\n",
       "<param name='static_image' value='https:&#47;&#47;public.tableau.com&#47;static&#47;images&#47;In&#47;InsuranceAnalysis_16163072902500&#47;AgevsSmoking&#47;1.png' />\n",
       "<param name='animate_transition' value='yes' />\n",
       "<param name='display_static_image' value='yes' />\n",
       "<param name='display_spinner' value='yes' />\n",
       "<param name='display_overlay' value='yes' />\n",
       "<param name='display_count' value='yes' />\n",
       "<param name='language' value='en' />\n",
       "<param name='filter' value='publish=yes' />\n",
       "</object>\n",
       "</div>                \n",
       "\n",
       "<script type='text/javascript'>                    \n",
       "var divElement = document.getElementById('viz1616512465515');                    \n",
       "var vizElement = divElement.getElementsByTagName('object')[0];                    \n",
       "vizElement.style.width='100%';vizElement.style.height=(divElement.offsetWidth*0.75)+'px';                    \n",
       "var scriptElement = document.createElement('script');                    \n",
       "scriptElement.src = 'https://public.tableau.com/javascripts/api/viz_v1.js';                    \n",
       "vizElement.parentNode.insertBefore(scriptElement, vizElement);                \n",
       "</script>\n"
      ],
      "text/plain": [
       "<IPython.core.display.HTML object>"
      ]
     },
     "metadata": {},
     "output_type": "display_data"
    }
   ],
   "source": [
    "%%HTML\n",
    "\n",
    "<div class='tableauPlaceholder' id='viz1616512465515' style='position: relative'>\n",
    "<noscript><a href='#'>\n",
    "<img alt=' ' src='https:&#47;&#47;public.tableau.com&#47;static&#47;images&#47;In&#47;InsuranceAnalysis_16163072902500&#47;AgevsSmoking&#47;1_rss.png' style='border: none' /></a>\n",
    "</noscript>\n",
    "<object class='tableauViz'  style='display:none;'><param name='host_url' value='https%3A%2F%2Fpublic.tableau.com%2F' /> \n",
    "<param name='embed_code_version' value='3' /> \n",
    "<param name='site_root' value='' />\n",
    "<param name='name' value='InsuranceAnalysis_16163072902500&#47;AgevsSmoking' />\n",
    "<param name='tabs' value='yes' />\n",
    "<param name='toolbar' value='yes' />\n",
    "<param name='static_image' value='https:&#47;&#47;public.tableau.com&#47;static&#47;images&#47;In&#47;InsuranceAnalysis_16163072902500&#47;AgevsSmoking&#47;1.png' />\n",
    "<param name='animate_transition' value='yes' />\n",
    "<param name='display_static_image' value='yes' />\n",
    "<param name='display_spinner' value='yes' />\n",
    "<param name='display_overlay' value='yes' />\n",
    "<param name='display_count' value='yes' />\n",
    "<param name='language' value='en' />\n",
    "<param name='filter' value='publish=yes' />\n",
    "</object>\n",
    "</div>                \n",
    "\n",
    "<script type='text/javascript'>                    \n",
    "var divElement = document.getElementById('viz1616512465515');                    \n",
    "var vizElement = divElement.getElementsByTagName('object')[0];                    \n",
    "vizElement.style.width='100%';vizElement.style.height=(divElement.offsetWidth*0.75)+'px';                    \n",
    "var scriptElement = document.createElement('script');                    \n",
    "scriptElement.src = 'https://public.tableau.com/javascripts/api/viz_v1.js';                    \n",
    "vizElement.parentNode.insertBefore(scriptElement, vizElement);                \n",
    "</script>"
   ]
  },
  {
   "cell_type": "markdown",
   "metadata": {},
   "source": [
    "#### Tableau - Plot 4 : Bubble Chart"
   ]
  },
  {
   "cell_type": "code",
   "execution_count": 28,
   "metadata": {},
   "outputs": [
    {
     "data": {
      "text/html": [
       "\n",
       "<div class='tableauPlaceholder' id='viz1616512491809' style='position: relative'><noscript><a href='#'>\n",
       "<img alt=' ' src='https:&#47;&#47;public.tableau.com&#47;static&#47;images&#47;In&#47;InsuranceAnalysis_16163072902500&#47;ChildrenvsMaxcharges&#47;1_rss.png' style='border: none' /></a>\n",
       "</noscript>\n",
       "<object class='tableauViz'  style='display:none;'>\n",
       "<param name='host_url' value='https%3A%2F%2Fpublic.tableau.com%2F' /> \n",
       "<param name='embed_code_version' value='3' /> \n",
       "<param name='site_root' value='' />\n",
       "<param name='name' value='InsuranceAnalysis_16163072902500&#47;ChildrenvsMaxcharges' />\n",
       "<param name='tabs' value='yes' />\n",
       "<param name='toolbar' value='yes' />\n",
       "<param name='static_image' value='https:&#47;&#47;public.tableau.com&#47;static&#47;images&#47;In&#47;InsuranceAnalysis_16163072902500&#47;ChildrenvsMaxcharges&#47;1.png' />\n",
       "<param name='animate_transition' value='yes' />\n",
       "<param name='display_static_image' value='yes' />\n",
       "<param name='display_spinner' value='yes' />\n",
       "<param name='display_overlay' value='yes' />\n",
       "<param name='display_count' value='yes' />\n",
       "<param name='language' value='en' />\n",
       "<param name='filter' value='publish=yes' />\n",
       "</object>\n",
       "</div>                \n",
       "\n",
       "<script type='text/javascript'>                    \n",
       "var divElement = document.getElementById('viz1616512491809');                    \n",
       "var vizElement = divElement.getElementsByTagName('object')[0];                    \n",
       "vizElement.style.width='100%';vizElement.style.height=(divElement.offsetWidth*0.75)+'px';                    \n",
       "var scriptElement = document.createElement('script');                    \n",
       "scriptElement.src = 'https://public.tableau.com/javascripts/api/viz_v1.js';                    \n",
       "vizElement.parentNode.insertBefore(scriptElement, vizElement);                \n",
       "</script>\n"
      ],
      "text/plain": [
       "<IPython.core.display.HTML object>"
      ]
     },
     "metadata": {},
     "output_type": "display_data"
    }
   ],
   "source": [
    "%%HTML\n",
    "\n",
    "<div class='tableauPlaceholder' id='viz1616512491809' style='position: relative'><noscript><a href='#'>\n",
    "<img alt=' ' src='https:&#47;&#47;public.tableau.com&#47;static&#47;images&#47;In&#47;InsuranceAnalysis_16163072902500&#47;ChildrenvsMaxcharges&#47;1_rss.png' style='border: none' /></a>\n",
    "</noscript>\n",
    "<object class='tableauViz'  style='display:none;'>\n",
    "<param name='host_url' value='https%3A%2F%2Fpublic.tableau.com%2F' /> \n",
    "<param name='embed_code_version' value='3' /> \n",
    "<param name='site_root' value='' />\n",
    "<param name='name' value='InsuranceAnalysis_16163072902500&#47;ChildrenvsMaxcharges' />\n",
    "<param name='tabs' value='yes' />\n",
    "<param name='toolbar' value='yes' />\n",
    "<param name='static_image' value='https:&#47;&#47;public.tableau.com&#47;static&#47;images&#47;In&#47;InsuranceAnalysis_16163072902500&#47;ChildrenvsMaxcharges&#47;1.png' />\n",
    "<param name='animate_transition' value='yes' />\n",
    "<param name='display_static_image' value='yes' />\n",
    "<param name='display_spinner' value='yes' />\n",
    "<param name='display_overlay' value='yes' />\n",
    "<param name='display_count' value='yes' />\n",
    "<param name='language' value='en' />\n",
    "<param name='filter' value='publish=yes' />\n",
    "</object>\n",
    "</div>                \n",
    "\n",
    "<script type='text/javascript'>                    \n",
    "var divElement = document.getElementById('viz1616512491809');                    \n",
    "var vizElement = divElement.getElementsByTagName('object')[0];                    \n",
    "vizElement.style.width='100%';vizElement.style.height=(divElement.offsetWidth*0.75)+'px';                    \n",
    "var scriptElement = document.createElement('script');                    \n",
    "scriptElement.src = 'https://public.tableau.com/javascripts/api/viz_v1.js';                    \n",
    "vizElement.parentNode.insertBefore(scriptElement, vizElement);                \n",
    "</script>"
   ]
  },
  {
   "cell_type": "markdown",
   "metadata": {},
   "source": [
    "#### Tableau - Plot 5 : Scatter Plot"
   ]
  },
  {
   "cell_type": "code",
   "execution_count": 29,
   "metadata": {},
   "outputs": [
    {
     "data": {
      "text/html": [
       "\n",
       "<div class='tableauPlaceholder' id='viz1616512513870' style='position: relative'>\n",
       "<noscript><a href='#'>\n",
       "<img alt=' ' src='https:&#47;&#47;public.tableau.com&#47;static&#47;images&#47;In&#47;InsuranceAnalysis_16163072902500&#47;BMIvsCharges&#47;1_rss.png' style='border: none' />\n",
       "</a></noscript>\n",
       "<object class='tableauViz'  style='display:none;'>\n",
       "<param name='host_url' value='https%3A%2F%2Fpublic.tableau.com%2F' /> \n",
       "<param name='embed_code_version' value='3' />\n",
       "<param name='site_root' value='' />\n",
       "<param name='name' value='InsuranceAnalysis_16163072902500&#47;BMIvsCharges' />\n",
       "<param name='tabs' value='yes' />\n",
       "<param name='toolbar' value='yes' />\n",
       "<param name='static_image' value='https:&#47;&#47;public.tableau.com&#47;static&#47;images&#47;In&#47;InsuranceAnalysis_16163072902500&#47;BMIvsCharges&#47;1.png' />\n",
       "<param name='animate_transition' value='yes' />\n",
       "<param name='display_static_image' value='yes' />\n",
       "<param name='display_spinner' value='yes' />\n",
       "<param name='display_overlay' value='yes' />\n",
       "<param name='display_count' value='yes' />\n",
       "<param name='language' value='en' />\n",
       "<param name='filter' value='publish=yes' />\n",
       "</object>\n",
       "</div>                \n",
       "\n",
       "<script type='text/javascript'>                    \n",
       "var divElement = document.getElementById('viz1616512513870');                    \n",
       "var vizElement = divElement.getElementsByTagName('object')[0];                    \n",
       "vizElement.style.width='100%';vizElement.style.height=(divElement.offsetWidth*0.75)+'px';                    \n",
       "var scriptElement = document.createElement('script');                    \n",
       "scriptElement.src = 'https://public.tableau.com/javascripts/api/viz_v1.js';                    \n",
       "vizElement.parentNode.insertBefore(scriptElement, vizElement);                \n",
       "</script>\n"
      ],
      "text/plain": [
       "<IPython.core.display.HTML object>"
      ]
     },
     "metadata": {},
     "output_type": "display_data"
    }
   ],
   "source": [
    "%%HTML\n",
    "\n",
    "<div class='tableauPlaceholder' id='viz1616512513870' style='position: relative'>\n",
    "<noscript><a href='#'>\n",
    "<img alt=' ' src='https:&#47;&#47;public.tableau.com&#47;static&#47;images&#47;In&#47;InsuranceAnalysis_16163072902500&#47;BMIvsCharges&#47;1_rss.png' style='border: none' />\n",
    "</a></noscript>\n",
    "<object class='tableauViz'  style='display:none;'>\n",
    "<param name='host_url' value='https%3A%2F%2Fpublic.tableau.com%2F' /> \n",
    "<param name='embed_code_version' value='3' />\n",
    "<param name='site_root' value='' />\n",
    "<param name='name' value='InsuranceAnalysis_16163072902500&#47;BMIvsCharges' />\n",
    "<param name='tabs' value='yes' />\n",
    "<param name='toolbar' value='yes' />\n",
    "<param name='static_image' value='https:&#47;&#47;public.tableau.com&#47;static&#47;images&#47;In&#47;InsuranceAnalysis_16163072902500&#47;BMIvsCharges&#47;1.png' />\n",
    "<param name='animate_transition' value='yes' />\n",
    "<param name='display_static_image' value='yes' />\n",
    "<param name='display_spinner' value='yes' />\n",
    "<param name='display_overlay' value='yes' />\n",
    "<param name='display_count' value='yes' />\n",
    "<param name='language' value='en' />\n",
    "<param name='filter' value='publish=yes' />\n",
    "</object>\n",
    "</div>                \n",
    "\n",
    "<script type='text/javascript'>                    \n",
    "var divElement = document.getElementById('viz1616512513870');                    \n",
    "var vizElement = divElement.getElementsByTagName('object')[0];                    \n",
    "vizElement.style.width='100%';vizElement.style.height=(divElement.offsetWidth*0.75)+'px';                    \n",
    "var scriptElement = document.createElement('script');                    \n",
    "scriptElement.src = 'https://public.tableau.com/javascripts/api/viz_v1.js';                    \n",
    "vizElement.parentNode.insertBefore(scriptElement, vizElement);                \n",
    "</script>"
   ]
  },
  {
   "cell_type": "markdown",
   "metadata": {},
   "source": [
    "#### Tableau - Plot 6 : Interactive Bubble Plot"
   ]
  },
  {
   "cell_type": "code",
   "execution_count": 30,
   "metadata": {},
   "outputs": [
    {
     "data": {
      "text/html": [
       "\n",
       "<div class='tableauPlaceholder' id='viz1616512536878' style='position: relative'>\n",
       "<noscript><a href='#'>\n",
       "<img alt=' ' src='https:&#47;&#47;public.tableau.com&#47;static&#47;images&#47;In&#47;InsuranceAnalysis_16163072902500&#47;Region&#47;1_rss.png' style='border: none' /></a>\n",
       "</noscript>\n",
       "<object class='tableauViz'  style='display:none;'><param name='host_url' value='https%3A%2F%2Fpublic.tableau.com%2F' />\n",
       "<param name='embed_code_version' value='3' />\n",
       "<param name='site_root' value='' />\n",
       "<param name='name' value='InsuranceAnalysis_16163072902500&#47;Region' />\n",
       "<param name='tabs' value='yes' />\n",
       "<param name='toolbar' value='yes' />\n",
       "<param name='static_image' value='https:&#47;&#47;public.tableau.com&#47;static&#47;images&#47;In&#47;InsuranceAnalysis_16163072902500&#47;Region&#47;1.png' /> \n",
       "<param name='animate_transition' value='yes' />\n",
       "<param name='display_static_image' value='yes' />\n",
       "<param name='display_spinner' value='yes' />\n",
       "<param name='display_overlay' value='yes' />\n",
       "<param name='display_count' value='yes' />\n",
       "<param name='language' value='en' />\n",
       "<param name='filter' value='publish=yes' />\n",
       "</object>\n",
       "</div>               \n",
       "\n",
       "<script type='text/javascript'>                    \n",
       "var divElement = document.getElementById('viz1616512536878');                    \n",
       "var vizElement = divElement.getElementsByTagName('object')[0];                    \n",
       "vizElement.style.width='100%';vizElement.style.height=(divElement.offsetWidth*0.75)+'px';                    \n",
       "var scriptElement = document.createElement('script');                    \n",
       "scriptElement.src = 'https://public.tableau.com/javascripts/api/viz_v1.js';                    \n",
       "vizElement.parentNode.insertBefore(scriptElement, vizElement);               \n",
       "</script>\n"
      ],
      "text/plain": [
       "<IPython.core.display.HTML object>"
      ]
     },
     "metadata": {},
     "output_type": "display_data"
    }
   ],
   "source": [
    "%%HTML\n",
    "\n",
    "<div class='tableauPlaceholder' id='viz1616512536878' style='position: relative'>\n",
    "<noscript><a href='#'>\n",
    "<img alt=' ' src='https:&#47;&#47;public.tableau.com&#47;static&#47;images&#47;In&#47;InsuranceAnalysis_16163072902500&#47;Region&#47;1_rss.png' style='border: none' /></a>\n",
    "</noscript>\n",
    "<object class='tableauViz'  style='display:none;'><param name='host_url' value='https%3A%2F%2Fpublic.tableau.com%2F' />\n",
    "<param name='embed_code_version' value='3' />\n",
    "<param name='site_root' value='' />\n",
    "<param name='name' value='InsuranceAnalysis_16163072902500&#47;Region' />\n",
    "<param name='tabs' value='yes' />\n",
    "<param name='toolbar' value='yes' />\n",
    "<param name='static_image' value='https:&#47;&#47;public.tableau.com&#47;static&#47;images&#47;In&#47;InsuranceAnalysis_16163072902500&#47;Region&#47;1.png' /> \n",
    "<param name='animate_transition' value='yes' />\n",
    "<param name='display_static_image' value='yes' />\n",
    "<param name='display_spinner' value='yes' />\n",
    "<param name='display_overlay' value='yes' />\n",
    "<param name='display_count' value='yes' />\n",
    "<param name='language' value='en' />\n",
    "<param name='filter' value='publish=yes' />\n",
    "</object>\n",
    "</div>               \n",
    "\n",
    "<script type='text/javascript'>                    \n",
    "var divElement = document.getElementById('viz1616512536878');                    \n",
    "var vizElement = divElement.getElementsByTagName('object')[0];                    \n",
    "vizElement.style.width='100%';vizElement.style.height=(divElement.offsetWidth*0.75)+'px';                    \n",
    "var scriptElement = document.createElement('script');                    \n",
    "scriptElement.src = 'https://public.tableau.com/javascripts/api/viz_v1.js';                    \n",
    "vizElement.parentNode.insertBefore(scriptElement, vizElement);               \n",
    "</script>"
   ]
  },
  {
   "cell_type": "markdown",
   "metadata": {},
   "source": [
    "#### Tableau - Plot 7 : Map"
   ]
  },
  {
   "cell_type": "code",
   "execution_count": 31,
   "metadata": {},
   "outputs": [
    {
     "data": {
      "text/html": [
       "\n",
       "<div class='tableauPlaceholder' id='viz1616512586269' style='position: relative'>\n",
       "<noscript><a href='#'><img alt=' ' src='https:&#47;&#47;public.tableau.com&#47;static&#47;images&#47;In&#47;InsuranceAnalysis_16163072902500&#47;Map&#47;1_rss.png' style='border: none' /></a>\n",
       "</noscript><object class='tableauViz'  style='display:none;'><param name='host_url' value='https%3A%2F%2Fpublic.tableau.com%2F' /> \n",
       "<param name='embed_code_version' value='3' /> \n",
       "<param name='site_root' value='' />\n",
       "<param name='name' value='InsuranceAnalysis_16163072902500&#47;Map' />\n",
       "<param name='tabs' value='yes' />\n",
       "<param name='toolbar' value='yes' />\n",
       "<param name='static_image' value='https:&#47;&#47;public.tableau.com&#47;static&#47;images&#47;In&#47;InsuranceAnalysis_16163072902500&#47;Map&#47;1.png' /> <param name='animate_transition' value='yes' />\n",
       "<param name='display_static_image' value='yes' />\n",
       "<param name='display_spinner' value='yes' />\n",
       "<param name='display_overlay' value='yes' />\n",
       "<param name='display_count' value='yes' />\n",
       "<param name='language' value='en' />\n",
       "<param name='filter' value='publish=yes' />\n",
       "</object>\n",
       "</div>                \n",
       "\n",
       "<script type='text/javascript'>                    \n",
       "var divElement = document.getElementById('viz1616512586269');                    \n",
       "var vizElement = divElement.getElementsByTagName('object')[0];                    \n",
       "vizElement.style.width='100%';vizElement.style.height=(divElement.offsetWidth*0.75)+'px';                    \n",
       "var scriptElement = document.createElement('script');                    \n",
       "scriptElement.src = 'https://public.tableau.com/javascripts/api/viz_v1.js';                    \n",
       "vizElement.parentNode.insertBefore(scriptElement, vizElement);                \n",
       "</script>\n"
      ],
      "text/plain": [
       "<IPython.core.display.HTML object>"
      ]
     },
     "metadata": {},
     "output_type": "display_data"
    }
   ],
   "source": [
    "%%HTML\n",
    "\n",
    "<div class='tableauPlaceholder' id='viz1616512586269' style='position: relative'>\n",
    "<noscript><a href='#'><img alt=' ' src='https:&#47;&#47;public.tableau.com&#47;static&#47;images&#47;In&#47;InsuranceAnalysis_16163072902500&#47;Map&#47;1_rss.png' style='border: none' /></a>\n",
    "</noscript><object class='tableauViz'  style='display:none;'><param name='host_url' value='https%3A%2F%2Fpublic.tableau.com%2F' /> \n",
    "<param name='embed_code_version' value='3' /> \n",
    "<param name='site_root' value='' />\n",
    "<param name='name' value='InsuranceAnalysis_16163072902500&#47;Map' />\n",
    "<param name='tabs' value='yes' />\n",
    "<param name='toolbar' value='yes' />\n",
    "<param name='static_image' value='https:&#47;&#47;public.tableau.com&#47;static&#47;images&#47;In&#47;InsuranceAnalysis_16163072902500&#47;Map&#47;1.png' /> <param name='animate_transition' value='yes' />\n",
    "<param name='display_static_image' value='yes' />\n",
    "<param name='display_spinner' value='yes' />\n",
    "<param name='display_overlay' value='yes' />\n",
    "<param name='display_count' value='yes' />\n",
    "<param name='language' value='en' />\n",
    "<param name='filter' value='publish=yes' />\n",
    "</object>\n",
    "</div>                \n",
    "\n",
    "<script type='text/javascript'>                    \n",
    "var divElement = document.getElementById('viz1616512586269');                    \n",
    "var vizElement = divElement.getElementsByTagName('object')[0];                    \n",
    "vizElement.style.width='100%';vizElement.style.height=(divElement.offsetWidth*0.75)+'px';                    \n",
    "var scriptElement = document.createElement('script');                    \n",
    "scriptElement.src = 'https://public.tableau.com/javascripts/api/viz_v1.js';                    \n",
    "vizElement.parentNode.insertBefore(scriptElement, vizElement);                \n",
    "</script>"
   ]
  },
  {
   "cell_type": "markdown",
   "metadata": {},
   "source": [
    "#### Tableau - Plot 8 : Tabelau Dash Board"
   ]
  },
  {
   "cell_type": "code",
   "execution_count": 32,
   "metadata": {},
   "outputs": [
    {
     "data": {
      "text/html": [
       "\n",
       "<div class='tableauPlaceholder' id='viz1616512643321' style='position: relative'>\n",
       "<noscript><a href='#'><img alt=' ' src='https:&#47;&#47;public.tableau.com&#47;static&#47;images&#47;In&#47;InsuranceAnalysis_16163072902500&#47;Dashboard1&#47;1_rss.png' style='border: none' /></a></noscript>\n",
       "<object class='tableauViz'  style='display:none;'>\n",
       "<param name='host_url' value='https%3A%2F%2Fpublic.tableau.com%2F' />\n",
       "<param name='embed_code_version' value='3' />\n",
       "<param name='site_root' value='' />\n",
       "<param name='name' value='InsuranceAnalysis_16163072902500&#47;Dashboard1' />\n",
       "<param name='tabs' value='yes' />\n",
       "<param name='toolbar' value='yes' />\n",
       "<param name='static_image' value='https:&#47;&#47;public.tableau.com&#47;static&#47;images&#47;In&#47;InsuranceAnalysis_16163072902500&#47;Dashboard1&#47;1.png' /> <param name='animate_transition' value='yes' />\n",
       "<param name='display_static_image' value='yes' />\n",
       "<param name='display_spinner' value='yes' />\n",
       "<param name='display_overlay' value='yes' />\n",
       "<param name='display_count' value='yes' />\n",
       "<param name='language' value='en' />\n",
       "<param name='filter' value='publish=yes' />\n",
       "</object>\n",
       "</div>                \n",
       "\n",
       "<script type='text/javascript'>                    \n",
       "var divElement = document.getElementById('viz1616512643321');                    \n",
       "var vizElement = divElement.getElementsByTagName('object')[0];                    \n",
       "if ( divElement.offsetWidth > 800 ) { vizElement.style.width='100%';vizElement.style.height=(divElement.offsetWidth*0.75)+'px';} else if ( divElement.offsetWidth > 500 ) { vizElement.style.width='100%';vizElement.style.height=(divElement.offsetWidth*0.75)+'px';} else { vizElement.style.width='100%';vizElement.style.minHeight='1850px';vizElement.style.maxHeight=(divElement.offsetWidth*1.77)+'px';}                     \n",
       "var scriptElement = document.createElement('script');                    \n",
       "scriptElement.src = 'https://public.tableau.com/javascripts/api/viz_v1.js';                    \n",
       "vizElement.parentNode.insertBefore(scriptElement, vizElement);                \n",
       "</script>\n"
      ],
      "text/plain": [
       "<IPython.core.display.HTML object>"
      ]
     },
     "metadata": {},
     "output_type": "display_data"
    }
   ],
   "source": [
    "%%HTML\n",
    "\n",
    "<div class='tableauPlaceholder' id='viz1616512643321' style='position: relative'>\n",
    "<noscript><a href='#'><img alt=' ' src='https:&#47;&#47;public.tableau.com&#47;static&#47;images&#47;In&#47;InsuranceAnalysis_16163072902500&#47;Dashboard1&#47;1_rss.png' style='border: none' /></a></noscript>\n",
    "<object class='tableauViz'  style='display:none;'>\n",
    "<param name='host_url' value='https%3A%2F%2Fpublic.tableau.com%2F' />\n",
    "<param name='embed_code_version' value='3' />\n",
    "<param name='site_root' value='' />\n",
    "<param name='name' value='InsuranceAnalysis_16163072902500&#47;Dashboard1' />\n",
    "<param name='tabs' value='yes' />\n",
    "<param name='toolbar' value='yes' />\n",
    "<param name='static_image' value='https:&#47;&#47;public.tableau.com&#47;static&#47;images&#47;In&#47;InsuranceAnalysis_16163072902500&#47;Dashboard1&#47;1.png' /> <param name='animate_transition' value='yes' />\n",
    "<param name='display_static_image' value='yes' />\n",
    "<param name='display_spinner' value='yes' />\n",
    "<param name='display_overlay' value='yes' />\n",
    "<param name='display_count' value='yes' />\n",
    "<param name='language' value='en' />\n",
    "<param name='filter' value='publish=yes' />\n",
    "</object>\n",
    "</div>                \n",
    "\n",
    "<script type='text/javascript'>                    \n",
    "var divElement = document.getElementById('viz1616512643321');                    \n",
    "var vizElement = divElement.getElementsByTagName('object')[0];                    \n",
    "if ( divElement.offsetWidth > 800 ) { vizElement.style.width='100%';vizElement.style.height=(divElement.offsetWidth*0.75)+'px';} else if ( divElement.offsetWidth > 500 ) { vizElement.style.width='100%';vizElement.style.height=(divElement.offsetWidth*0.75)+'px';} else { vizElement.style.width='100%';vizElement.style.minHeight='1850px';vizElement.style.maxHeight=(divElement.offsetWidth*1.77)+'px';}                     \n",
    "var scriptElement = document.createElement('script');                    \n",
    "scriptElement.src = 'https://public.tableau.com/javascripts/api/viz_v1.js';                    \n",
    "vizElement.parentNode.insertBefore(scriptElement, vizElement);                \n",
    "</script>"
   ]
  },
  {
   "cell_type": "markdown",
   "metadata": {},
   "source": [
    "The above dashboard is deployed on my personal website http://athulmathew.com/insurance.html"
   ]
  },
  {
   "cell_type": "markdown",
   "metadata": {},
   "source": [
    "### Linear Regression"
   ]
  },
  {
   "cell_type": "code",
   "execution_count": 33,
   "metadata": {},
   "outputs": [
    {
     "name": "stdout",
     "output_type": "stream",
     "text": [
      "Shape of X_train: (1070, 6)\n",
      "Shape of X_test: (268, 6)\n",
      "Shape of Y_train: (1070,)\n",
      "Shape of Y_test: (268,)\n"
     ]
    }
   ],
   "source": [
    "from sklearn.model_selection import train_test_split\n",
    "\n",
    "df = pd.read_csv('https://raw.githubusercontent.com/toshihiroryuu/Dataset-test/main/insuarnce_viz.csv')\n",
    "\n",
    "Y = df['charges']\n",
    "X = df[['age', 'sex', 'bmi', 'children', 'smoker','region_label']]\n",
    "\n",
    "\n",
    "X_train, X_test, Y_train, Y_test = train_test_split(X, Y, test_size=0.2, random_state=52)\n",
    "\n",
    "print('Shape of X_train:', X_train.shape)\n",
    "print('Shape of X_test:', X_test.shape)\n",
    "print('Shape of Y_train:', Y_train.shape)\n",
    "print('Shape of Y_test:', Y_test.shape)"
   ]
  },
  {
   "cell_type": "code",
   "execution_count": 34,
   "metadata": {},
   "outputs": [
    {
     "name": "stdout",
     "output_type": "stream",
     "text": [
      "      Predictor   coefficient\n",
      "0           age    257.548424\n",
      "1           sex    -79.678200\n",
      "2           bmi    348.328728\n",
      "3      children    374.693869\n",
      "4        smoker  24317.032527\n",
      "5  region_label   -409.585801\n",
      "r2 score is 0.6952336881969139\n"
     ]
    }
   ],
   "source": [
    "from sklearn.linear_model import LinearRegression\n",
    "from sklearn.metrics import r2_score\n",
    "\n",
    "lr = LinearRegression()\n",
    "lr.fit(X_train, Y_train)\n",
    "\n",
    "print(pd.DataFrame({'Predictor': X.columns, 'coefficient': lr.coef_}))\n",
    "\n",
    "Y_pred = lr.predict(X_test)\n",
    "score = r2_score(Y_test, Y_pred)\n",
    "print(\"r2 score is\", score)"
   ]
  },
  {
   "cell_type": "code",
   "execution_count": 35,
   "metadata": {},
   "outputs": [
    {
     "name": "stdout",
     "output_type": "stream",
     "text": [
      "\n",
      "Regression statistics\n",
      "\n",
      "                      Mean Error (ME) : -0.0000\n",
      "       Root Mean Squared Error (RMSE) : 5998.8870\n",
      "            Mean Absolute Error (MAE) : 4127.4174\n",
      "          Mean Percentage Error (MPE) : -16.7066\n",
      "Mean Absolute Percentage Error (MAPE) : 42.4326\n"
     ]
    }
   ],
   "source": [
    "from dmba import regressionSummary\n",
    "\n",
    "regressionSummary(Y_train, lr.predict(X_train))"
   ]
  },
  {
   "cell_type": "code",
   "execution_count": 36,
   "metadata": {},
   "outputs": [
    {
     "data": {
      "text/html": [
       "<div>\n",
       "<style scoped>\n",
       "    .dataframe tbody tr th:only-of-type {\n",
       "        vertical-align: middle;\n",
       "    }\n",
       "\n",
       "    .dataframe tbody tr th {\n",
       "        vertical-align: top;\n",
       "    }\n",
       "\n",
       "    .dataframe thead th {\n",
       "        text-align: right;\n",
       "    }\n",
       "</style>\n",
       "<table border=\"1\" class=\"dataframe\">\n",
       "  <thead>\n",
       "    <tr style=\"text-align: right;\">\n",
       "      <th></th>\n",
       "      <th>Predicted</th>\n",
       "      <th>Actual</th>\n",
       "      <th>Residual</th>\n",
       "    </tr>\n",
       "  </thead>\n",
       "  <tbody>\n",
       "    <tr>\n",
       "      <th>1113</th>\n",
       "      <td>4970.777850</td>\n",
       "      <td>5312.16985</td>\n",
       "      <td>341.392000</td>\n",
       "    </tr>\n",
       "    <tr>\n",
       "      <th>815</th>\n",
       "      <td>3168.874354</td>\n",
       "      <td>1877.92940</td>\n",
       "      <td>-1290.944954</td>\n",
       "    </tr>\n",
       "    <tr>\n",
       "      <th>899</th>\n",
       "      <td>205.111263</td>\n",
       "      <td>2117.33885</td>\n",
       "      <td>1912.227587</td>\n",
       "    </tr>\n",
       "    <tr>\n",
       "      <th>753</th>\n",
       "      <td>9928.737815</td>\n",
       "      <td>11833.78230</td>\n",
       "      <td>1905.044485</td>\n",
       "    </tr>\n",
       "    <tr>\n",
       "      <th>362</th>\n",
       "      <td>23419.084274</td>\n",
       "      <td>13844.50600</td>\n",
       "      <td>-9574.578274</td>\n",
       "    </tr>\n",
       "  </tbody>\n",
       "</table>\n",
       "</div>"
      ],
      "text/plain": [
       "         Predicted       Actual     Residual\n",
       "1113   4970.777850   5312.16985   341.392000\n",
       "815    3168.874354   1877.92940 -1290.944954\n",
       "899     205.111263   2117.33885  1912.227587\n",
       "753    9928.737815  11833.78230  1905.044485\n",
       "362   23419.084274  13844.50600 -9574.578274"
      ]
     },
     "execution_count": 36,
     "metadata": {},
     "output_type": "execute_result"
    }
   ],
   "source": [
    "lr_pred = lr.predict(X_test)\n",
    "\n",
    "result = pd.DataFrame({'Predicted': lr_pred, 'Actual': Y_test,'Residual': Y_test - lr_pred})\n",
    "result.head(5)"
   ]
  },
  {
   "cell_type": "code",
   "execution_count": 37,
   "metadata": {},
   "outputs": [
    {
     "name": "stdout",
     "output_type": "stream",
     "text": [
      "\n",
      "Regression statistics\n",
      "\n",
      "                      Mean Error (ME) : -536.7364\n",
      "       Root Mean Squared Error (RMSE) : 6194.7652\n",
      "            Mean Absolute Error (MAE) : 4385.6470\n",
      "          Mean Percentage Error (MPE) : -22.8862\n",
      "Mean Absolute Percentage Error (MAPE) : 46.0843\n"
     ]
    }
   ],
   "source": [
    "regressionSummary(Y_test, lr.predict(X_test))"
   ]
  },
  {
   "cell_type": "code",
   "execution_count": 38,
   "metadata": {},
   "outputs": [
    {
     "data": {
      "image/png": "[encoded data removed]",
      "text/plain": [
       "<Figure size 432x288 with 1 Axes>"
      ]
     },
     "metadata": {},
     "output_type": "display_data"
    }
   ],
   "source": [
    "lr_pred = lr.predict(X_test)\n",
    "all_residuals = Y_test - lr_pred\n",
    "\n",
    "pd.DataFrame({\"Residuals\": all_residuals}).hist()\n",
    "plt.show()"
   ]
  },
  {
   "cell_type": "code",
   "execution_count": 39,
   "metadata": {},
   "outputs": [
    {
     "data": {
      "text/plain": [
       "array([0.76226741, 0.76950772, 0.68135547, 0.80278539, 0.73626234,\n",
       "       0.79539648, 0.7212666 , 0.66734053, 0.76813946, 0.81444505])"
      ]
     },
     "execution_count": 39,
     "metadata": {},
     "output_type": "execute_result"
    }
   ],
   "source": [
    "from sklearn.model_selection import KFold\n",
    "from sklearn.model_selection import cross_val_score\n",
    "\n",
    "# KFold cross validation\n",
    "folds = KFold(n_splits = 10, shuffle = True, random_state = 100)\n",
    "scores = cross_val_score(lr, X_train, Y_train, scoring='r2', cv=folds)\n",
    "scores "
   ]
  },
  {
   "cell_type": "markdown",
   "metadata": {},
   "source": [
    "### Ridge Regression"
   ]
  },
  {
   "cell_type": "code",
   "execution_count": 40,
   "metadata": {},
   "outputs": [
    {
     "data": {
      "text/plain": [
       "array([ 4994.45367011,  3193.91549921,   228.2787942 ,  9949.49035529,\n",
       "       23301.94948461, 16012.82823314, 32517.82535273,  8745.06311307,\n",
       "        1653.18270118, 12599.182154  ])"
      ]
     },
     "execution_count": 40,
     "metadata": {},
     "output_type": "execute_result"
    }
   ],
   "source": [
    "import numpy as np\n",
    "from sklearn.linear_model import Ridge\n",
    "from sklearn.metrics import mean_squared_error\n",
    "\n",
    "ridge_reg = Ridge()\n",
    "ridge_reg.fit(X_train, Y_train) \n",
    "\n",
    "Y_pred = ridge_reg.predict(X_test)\n",
    "Y_pred[0:10]"
   ]
  },
  {
   "cell_type": "code",
   "execution_count": 41,
   "metadata": {},
   "outputs": [
    {
     "name": "stdout",
     "output_type": "stream",
     "text": [
      "MSE 6186.017677440244\n",
      "R2 Score 0.6960937889735901\n"
     ]
    }
   ],
   "source": [
    "print(\"MSE\", np.sqrt(mean_squared_error(Y_test, Y_pred))) \n",
    "print(\"R2 Score\", r2_score(Y_test, Y_pred))"
   ]
  },
  {
   "cell_type": "code",
   "execution_count": 42,
   "metadata": {},
   "outputs": [
    {
     "data": {
      "text/plain": [
       "array([0.76253076, 0.77072999, 0.68237135, 0.80167817, 0.73599037,\n",
       "       0.79524729, 0.72184904, 0.66838547, 0.7677455 , 0.81267904])"
      ]
     },
     "execution_count": 42,
     "metadata": {},
     "output_type": "execute_result"
    }
   ],
   "source": [
    "from sklearn.model_selection import KFold\n",
    "from sklearn.model_selection import cross_val_score\n",
    "\n",
    "# KFold cross validation\n",
    "folds = KFold(n_splits = 10, shuffle = True, random_state = 100)\n",
    "scores = cross_val_score(ridge_reg, X_train, Y_train, scoring='r2', cv=folds)\n",
    "scores "
   ]
  },
  {
   "cell_type": "markdown",
   "metadata": {},
   "source": [
    "## Classification"
   ]
  },
  {
   "cell_type": "markdown",
   "metadata": {},
   "source": [
    "- Add labels for Classification of Insurance Charges (1 for high, 0 for low)."
   ]
  },
  {
   "cell_type": "code",
   "execution_count": 43,
   "metadata": {},
   "outputs": [
    {
     "data": {
      "text/html": [
       "<div>\n",
       "<style scoped>\n",
       "    .dataframe tbody tr th:only-of-type {\n",
       "        vertical-align: middle;\n",
       "    }\n",
       "\n",
       "    .dataframe tbody tr th {\n",
       "        vertical-align: top;\n",
       "    }\n",
       "\n",
       "    .dataframe thead th {\n",
       "        text-align: right;\n",
       "    }\n",
       "</style>\n",
       "<table border=\"1\" class=\"dataframe\">\n",
       "  <thead>\n",
       "    <tr style=\"text-align: right;\">\n",
       "      <th></th>\n",
       "      <th>age</th>\n",
       "      <th>sex</th>\n",
       "      <th>bmi</th>\n",
       "      <th>children</th>\n",
       "      <th>smoker</th>\n",
       "      <th>region</th>\n",
       "      <th>charges</th>\n",
       "      <th>region_label</th>\n",
       "      <th>charge_label</th>\n",
       "    </tr>\n",
       "  </thead>\n",
       "  <tbody>\n",
       "    <tr>\n",
       "      <th>0</th>\n",
       "      <td>19</td>\n",
       "      <td>0</td>\n",
       "      <td>27.900</td>\n",
       "      <td>0.0</td>\n",
       "      <td>1</td>\n",
       "      <td>southwest</td>\n",
       "      <td>16884.92400</td>\n",
       "      <td>3</td>\n",
       "      <td>True</td>\n",
       "    </tr>\n",
       "    <tr>\n",
       "      <th>1</th>\n",
       "      <td>18</td>\n",
       "      <td>1</td>\n",
       "      <td>33.770</td>\n",
       "      <td>1.0</td>\n",
       "      <td>0</td>\n",
       "      <td>southeast</td>\n",
       "      <td>1725.55230</td>\n",
       "      <td>2</td>\n",
       "      <td>False</td>\n",
       "    </tr>\n",
       "    <tr>\n",
       "      <th>2</th>\n",
       "      <td>28</td>\n",
       "      <td>1</td>\n",
       "      <td>33.000</td>\n",
       "      <td>3.0</td>\n",
       "      <td>0</td>\n",
       "      <td>southeast</td>\n",
       "      <td>4449.46200</td>\n",
       "      <td>2</td>\n",
       "      <td>False</td>\n",
       "    </tr>\n",
       "    <tr>\n",
       "      <th>3</th>\n",
       "      <td>33</td>\n",
       "      <td>1</td>\n",
       "      <td>22.705</td>\n",
       "      <td>0.0</td>\n",
       "      <td>0</td>\n",
       "      <td>northwest</td>\n",
       "      <td>21984.47061</td>\n",
       "      <td>1</td>\n",
       "      <td>True</td>\n",
       "    </tr>\n",
       "    <tr>\n",
       "      <th>4</th>\n",
       "      <td>32</td>\n",
       "      <td>1</td>\n",
       "      <td>28.880</td>\n",
       "      <td>0.0</td>\n",
       "      <td>0</td>\n",
       "      <td>northwest</td>\n",
       "      <td>3866.85520</td>\n",
       "      <td>1</td>\n",
       "      <td>False</td>\n",
       "    </tr>\n",
       "  </tbody>\n",
       "</table>\n",
       "</div>"
      ],
      "text/plain": [
       "   age  sex     bmi  children  smoker     region      charges  region_label  \\\n",
       "0   19    0  27.900       0.0       1  southwest  16884.92400             3   \n",
       "1   18    1  33.770       1.0       0  southeast   1725.55230             2   \n",
       "2   28    1  33.000       3.0       0  southeast   4449.46200             2   \n",
       "3   33    1  22.705       0.0       0  northwest  21984.47061             1   \n",
       "4   32    1  28.880       0.0       0  northwest   3866.85520             1   \n",
       "\n",
       "   charge_label  \n",
       "0          True  \n",
       "1         False  \n",
       "2         False  \n",
       "3          True  \n",
       "4         False  "
      ]
     },
     "execution_count": 43,
     "metadata": {},
     "output_type": "execute_result"
    }
   ],
   "source": [
    "import numpy as np\n",
    "\n",
    "df['charge_label'] = np.where(df['charges']>12000, True, False)\n",
    "df.head(5)"
   ]
  },
  {
   "cell_type": "code",
   "execution_count": 44,
   "metadata": {},
   "outputs": [
    {
     "name": "stdout",
     "output_type": "stream",
     "text": [
      "Shape of X_train: (1070, 6)\n",
      "Shape of X_test: (268, 6)\n",
      "Shape of Y_train: (1070,)\n",
      "Shape of Y_test: (268,)\n"
     ]
    }
   ],
   "source": [
    "Y = df['charge_label']\n",
    "X = df[['age', 'sex', 'bmi', 'children', 'smoker','region_label']]\n",
    "\n",
    "\n",
    "X_train, X_test, Y_train, Y_test = train_test_split(X, Y, test_size=0.2, random_state=52)\n",
    "\n",
    "print('Shape of X_train:', X_train.shape)\n",
    "print('Shape of X_test:', X_test.shape)\n",
    "print('Shape of Y_train:', Y_train.shape)\n",
    "print('Shape of Y_test:', Y_test.shape)"
   ]
  },
  {
   "cell_type": "markdown",
   "metadata": {},
   "source": [
    "### Naive Bayes"
   ]
  },
  {
   "cell_type": "code",
   "execution_count": 45,
   "metadata": {},
   "outputs": [
    {
     "data": {
      "text/plain": [
       "GaussianNB()"
      ]
     },
     "execution_count": 45,
     "metadata": {},
     "output_type": "execute_result"
    }
   ],
   "source": [
    "from sklearn.naive_bayes import GaussianNB\n",
    "from sklearn.metrics import accuracy_score\n",
    "\n",
    "nb_model = GaussianNB()\n",
    "nb_model .fit(X_train, Y_train)"
   ]
  },
  {
   "cell_type": "code",
   "execution_count": 46,
   "metadata": {},
   "outputs": [
    {
     "data": {
      "text/plain": [
       "82.84"
      ]
     },
     "execution_count": 46,
     "metadata": {},
     "output_type": "execute_result"
    }
   ],
   "source": [
    "Y_pred = nb_model .predict(X_test)\n",
    "acc = round(accuracy_score(Y_test,Y_pred) * 100, 2)\n",
    "acc"
   ]
  },
  {
   "cell_type": "code",
   "execution_count": 47,
   "metadata": {},
   "outputs": [
    {
     "name": "stdout",
     "output_type": "stream",
     "text": [
      "              precision    recall  f1-score   support\n",
      "\n",
      "       False       0.78      1.00      0.88       166\n",
      "        True       1.00      0.55      0.71       102\n",
      "\n",
      "    accuracy                           0.83       268\n",
      "   macro avg       0.89      0.77      0.79       268\n",
      "weighted avg       0.87      0.83      0.81       268\n",
      "\n"
     ]
    }
   ],
   "source": [
    "from sklearn.metrics import classification_report\n",
    "\n",
    "print(classification_report(Y_test,Y_pred))"
   ]
  },
  {
   "cell_type": "code",
   "execution_count": 48,
   "metadata": {},
   "outputs": [
    {
     "data": {
      "text/plain": [
       "<matplotlib.axes._subplots.AxesSubplot at 0x20b1ab34310>"
      ]
     },
     "execution_count": 48,
     "metadata": {},
     "output_type": "execute_result"
    },
    {
     "data": {
      "image/png": "[encoded data removed]",
      "text/plain": [
       "<Figure size 432x432 with 2 Axes>"
      ]
     },
     "metadata": {},
     "output_type": "display_data"
    }
   ],
   "source": [
    "import scikitplot as skplt\n",
    "\n",
    "skplt.metrics.plot_confusion_matrix(Y_test, Y_pred, figsize=(6,6), \n",
    "                                title='Confusion Matrix: Naive Bayes',\n",
    "                                normalize=True,\n",
    "                                cmap='Blues')"
   ]
  },
  {
   "cell_type": "markdown",
   "metadata": {},
   "source": [
    "- 10 fold cross validation"
   ]
  },
  {
   "cell_type": "code",
   "execution_count": 49,
   "metadata": {},
   "outputs": [
    {
     "name": "stdout",
     "output_type": "stream",
     "text": [
      "Train Index:  [ 134  135  136 ... 1335 1336 1337] \n",
      "\n",
      "Test Index:  [  0   1   2   3   4   5   6   7   8   9  10  11  12  13  14  15  16  17\n",
      "  18  19  20  21  22  23  24  25  26  27  28  29  30  31  32  33  34  35\n",
      "  36  37  38  39  40  41  42  43  44  45  46  47  48  49  50  51  52  53\n",
      "  54  55  56  57  58  59  60  61  62  63  64  65  66  67  68  69  70  71\n",
      "  72  73  74  75  76  77  78  79  80  81  82  83  84  85  86  87  88  89\n",
      "  90  91  92  93  94  95  96  97  98  99 100 101 102 103 104 105 106 107\n",
      " 108 109 110 111 112 113 114 115 116 117 118 119 120 121 122 123 124 125\n",
      " 126 127 128 129 130 131 132 133]\n",
      "Train Index:  [   0    1    2 ... 1335 1336 1337] \n",
      "\n",
      "Test Index:  [134 135 136 137 138 139 140 141 142 143 144 145 146 147 148 149 150 151\n",
      " 152 153 154 155 156 157 158 159 160 161 162 163 164 165 166 167 168 169\n",
      " 170 171 172 173 174 175 176 177 178 179 180 181 182 183 184 185 186 187\n",
      " 188 189 190 191 192 193 194 195 196 197 198 199 200 201 202 203 204 205\n",
      " 206 207 208 209 210 211 212 213 214 215 216 217 218 219 220 221 222 223\n",
      " 224 225 226 227 228 229 230 231 232 233 234 235 236 237 238 239 240 241\n",
      " 242 243 244 245 246 247 248 249 250 251 252 253 254 255 256 257 258 259\n",
      " 260 261 262 263 264 265 266 267]\n",
      "Train Index:  [   0    1    2 ... 1335 1336 1337] \n",
      "\n",
      "Test Index:  [268 269 270 271 272 273 274 275 276 277 278 279 280 281 282 283 284 285\n",
      " 286 287 288 289 290 291 292 293 294 295 296 297 298 299 300 301 302 303\n",
      " 304 305 306 307 308 309 310 311 312 313 314 315 316 317 318 319 320 321\n",
      " 322 323 324 325 326 327 328 329 330 331 332 333 334 335 336 337 338 339\n",
      " 340 341 342 343 344 345 346 347 348 349 350 351 352 353 354 355 356 357\n",
      " 358 359 360 361 362 363 364 365 366 367 368 369 370 371 372 373 374 375\n",
      " 376 377 378 379 380 381 382 383 384 385 386 387 388 389 390 391 392 393\n",
      " 394 395 396 397 398 399 400 401]\n",
      "Train Index:  [   0    1    2 ... 1335 1336 1337] \n",
      "\n",
      "Test Index:  [402 403 404 405 406 407 408 409 410 411 412 413 414 415 416 417 418 419\n",
      " 420 421 422 423 424 425 426 427 428 429 430 431 432 433 434 435 436 437\n",
      " 438 439 440 441 442 443 444 445 446 447 448 449 450 451 452 453 454 455\n",
      " 456 457 458 459 460 461 462 463 464 465 466 467 468 469 470 471 472 473\n",
      " 474 475 476 477 478 479 480 481 482 483 484 485 486 487 488 489 490 491\n",
      " 492 493 494 495 496 497 498 499 500 501 502 503 504 505 506 507 508 509\n",
      " 510 511 512 513 514 515 516 517 518 519 520 521 522 523 524 525 526 527\n",
      " 528 529 530 531 532 533 534 535]\n",
      "Train Index:  [   0    1    2 ... 1335 1336 1337] \n",
      "\n",
      "Test Index:  [536 537 538 539 540 541 542 543 544 545 546 547 548 549 550 551 552 553\n",
      " 554 555 556 557 558 559 560 561 562 563 564 565 566 567 568 569 570 571\n",
      " 572 573 574 575 576 577 578 579 580 581 582 583 584 585 586 587 588 589\n",
      " 590 591 592 593 594 595 596 597 598 599 600 601 602 603 604 605 606 607\n",
      " 608 609 610 611 612 613 614 615 616 617 618 619 620 621 622 623 624 625\n",
      " 626 627 628 629 630 631 632 633 634 635 636 637 638 639 640 641 642 643\n",
      " 644 645 646 647 648 649 650 651 652 653 654 655 656 657 658 659 660 661\n",
      " 662 663 664 665 666 667 668 669]\n",
      "Train Index:  [   0    1    2 ... 1335 1336 1337] \n",
      "\n",
      "Test Index:  [670 671 672 673 674 675 676 677 678 679 680 681 682 683 684 685 686 687\n",
      " 688 689 690 691 692 693 694 695 696 697 698 699 700 701 702 703 704 705\n",
      " 706 707 708 709 710 711 712 713 714 715 716 717 718 719 720 721 722 723\n",
      " 724 725 726 727 728 729 730 731 732 733 734 735 736 737 738 739 740 741\n",
      " 742 743 744 745 746 747 748 749 750 751 752 753 754 755 756 757 758 759\n",
      " 760 761 762 763 764 765 766 767 768 769 770 771 772 773 774 775 776 777\n",
      " 778 779 780 781 782 783 784 785 786 787 788 789 790 791 792 793 794 795\n",
      " 796 797 798 799 800 801 802 803]\n",
      "Train Index:  [   0    1    2 ... 1335 1336 1337] \n",
      "\n",
      "Test Index:  [804 805 806 807 808 809 810 811 812 813 814 815 816 817 818 819 820 821\n",
      " 822 823 824 825 826 827 828 829 830 831 832 833 834 835 836 837 838 839\n",
      " 840 841 842 843 844 845 846 847 848 849 850 851 852 853 854 855 856 857\n",
      " 858 859 860 861 862 863 864 865 866 867 868 869 870 871 872 873 874 875\n",
      " 876 877 878 879 880 881 882 883 884 885 886 887 888 889 890 891 892 893\n",
      " 894 895 896 897 898 899 900 901 902 903 904 905 906 907 908 909 910 911\n",
      " 912 913 914 915 916 917 918 919 920 921 922 923 924 925 926 927 928 929\n",
      " 930 931 932 933 934 935 936 937]\n",
      "Train Index:  [   0    1    2 ... 1335 1336 1337] \n",
      "\n",
      "Test Index:  [ 938  939  940  941  942  943  944  945  946  947  948  949  950  951\n",
      "  952  953  954  955  956  957  958  959  960  961  962  963  964  965\n",
      "  966  967  968  969  970  971  972  973  974  975  976  977  978  979\n",
      "  980  981  982  983  984  985  986  987  988  989  990  991  992  993\n",
      "  994  995  996  997  998  999 1000 1001 1002 1003 1004 1005 1006 1007\n",
      " 1008 1009 1010 1011 1012 1013 1014 1015 1016 1017 1018 1019 1020 1021\n",
      " 1022 1023 1024 1025 1026 1027 1028 1029 1030 1031 1032 1033 1034 1035\n",
      " 1036 1037 1038 1039 1040 1041 1042 1043 1044 1045 1046 1047 1048 1049\n",
      " 1050 1051 1052 1053 1054 1055 1056 1057 1058 1059 1060 1061 1062 1063\n",
      " 1064 1065 1066 1067 1068 1069 1070 1071]\n",
      "Train Index:  [   0    1    2 ... 1335 1336 1337] \n",
      "\n",
      "Test Index:  [1072 1073 1074 1075 1076 1077 1078 1079 1080 1081 1082 1083 1084 1085\n",
      " 1086 1087 1088 1089 1090 1091 1092 1093 1094 1095 1096 1097 1098 1099\n",
      " 1100 1101 1102 1103 1104 1105 1106 1107 1108 1109 1110 1111 1112 1113\n",
      " 1114 1115 1116 1117 1118 1119 1120 1121 1122 1123 1124 1125 1126 1127\n",
      " 1128 1129 1130 1131 1132 1133 1134 1135 1136 1137 1138 1139 1140 1141\n",
      " 1142 1143 1144 1145 1146 1147 1148 1149 1150 1151 1152 1153 1154 1155\n",
      " 1156 1157 1158 1159 1160 1161 1162 1163 1164 1165 1166 1167 1168 1169\n",
      " 1170 1171 1172 1173 1174 1175 1176 1177 1178 1179 1180 1181 1182 1183\n",
      " 1184 1185 1186 1187 1188 1189 1190 1191 1192 1193 1194 1195 1196 1197\n",
      " 1198 1199 1200 1201 1202 1203 1204]\n",
      "Train Index:  [   0    1    2 ... 1202 1203 1204] \n",
      "\n",
      "Test Index:  [1205 1206 1207 1208 1209 1210 1211 1212 1213 1214 1215 1216 1217 1218\n",
      " 1219 1220 1221 1222 1223 1224 1225 1226 1227 1228 1229 1230 1231 1232\n",
      " 1233 1234 1235 1236 1237 1238 1239 1240 1241 1242 1243 1244 1245 1246\n",
      " 1247 1248 1249 1250 1251 1252 1253 1254 1255 1256 1257 1258 1259 1260\n",
      " 1261 1262 1263 1264 1265 1266 1267 1268 1269 1270 1271 1272 1273 1274\n",
      " 1275 1276 1277 1278 1279 1280 1281 1282 1283 1284 1285 1286 1287 1288\n",
      " 1289 1290 1291 1292 1293 1294 1295 1296 1297 1298 1299 1300 1301 1302\n",
      " 1303 1304 1305 1306 1307 1308 1309 1310 1311 1312 1313 1314 1315 1316\n",
      " 1317 1318 1319 1320 1321 1322 1323 1324 1325 1326 1327 1328 1329 1330\n",
      " 1331 1332 1333 1334 1335 1336 1337]\n"
     ]
    },
    {
     "data": {
      "text/plain": [
       "KFold(n_splits=10, random_state=None, shuffle=False)"
      ]
     },
     "execution_count": 49,
     "metadata": {},
     "output_type": "execute_result"
    }
   ],
   "source": [
    "from sklearn.model_selection import KFold\n",
    "import numpy as np\n",
    "\n",
    "scores = []\n",
    "best_nb = GaussianNB()\n",
    "\n",
    "Y = df['charge_label'].to_numpy()\n",
    "X = df[['age', 'sex', 'bmi', 'children', 'smoker','region_label']].to_numpy()\n",
    "\n",
    "cv = KFold(n_splits = 10,  shuffle = False)\n",
    "\n",
    "for train_index, test_index in cv.split(X):\n",
    "    print(\"Train Index: \", train_index, \"\\n\")\n",
    "    print(\"Test Index: \", test_index)\n",
    "\n",
    "    X_train, X_test, Y_train, Y_test = X[train_index], X[test_index], Y[train_index], Y[test_index]\n",
    "    \n",
    "    best_nb.fit(X_train, Y_train)\n",
    "    scores.append(best_nb.score(X_test, Y_test))\n",
    "    \n",
    "cv"
   ]
  },
  {
   "cell_type": "code",
   "execution_count": 50,
   "metadata": {},
   "outputs": [
    {
     "data": {
      "text/plain": [
       "[0.8656716417910447,\n",
       " 0.8507462686567164,\n",
       " 0.7761194029850746,\n",
       " 0.7985074626865671,\n",
       " 0.8208955223880597,\n",
       " 0.8731343283582089,\n",
       " 0.8208955223880597,\n",
       " 0.8283582089552238,\n",
       " 0.849624060150376,\n",
       " 0.8872180451127819,\n",
       " 0.8872180451127819]"
      ]
     },
     "execution_count": 50,
     "metadata": {},
     "output_type": "execute_result"
    }
   ],
   "source": [
    "best_nb.fit(X_train, Y_train)\n",
    "scores.append(best_nb.score(X_test, Y_test))\n",
    "scores"
   ]
  },
  {
   "cell_type": "code",
   "execution_count": 51,
   "metadata": {},
   "outputs": [
    {
     "data": {
      "text/plain": [
       "array([0.78571429, 0.92857143, 0.78571429, 0.92307692, 0.84615385,\n",
       "       1.        , 1.        , 1.        , 0.84615385, 0.76923077])"
      ]
     },
     "execution_count": 51,
     "metadata": {},
     "output_type": "execute_result"
    }
   ],
   "source": [
    "from sklearn.model_selection import cross_val_score\n",
    "\n",
    "cross_val_score(best_nb, X_test, Y_test, cv=10)"
   ]
  },
  {
   "cell_type": "markdown",
   "metadata": {},
   "source": [
    "### Decision Tree"
   ]
  },
  {
   "cell_type": "code",
   "execution_count": 52,
   "metadata": {},
   "outputs": [],
   "source": [
    "from sklearn.tree import DecisionTreeClassifier\n",
    "\n",
    "des_model = DecisionTreeClassifier()\n",
    "des_model.fit(X_train, Y_train)\n",
    "\n",
    "Y_pred = des_model.predict(X_test)"
   ]
  },
  {
   "cell_type": "code",
   "execution_count": 53,
   "metadata": {},
   "outputs": [
    {
     "data": {
      "text/plain": [
       "91.73"
      ]
     },
     "execution_count": 53,
     "metadata": {},
     "output_type": "execute_result"
    }
   ],
   "source": [
    "acc = round(accuracy_score(Y_test,Y_pred) * 100, 2)\n",
    "acc"
   ]
  },
  {
   "cell_type": "markdown",
   "metadata": {},
   "source": [
    "10 fold cross validation"
   ]
  },
  {
   "cell_type": "code",
   "execution_count": 54,
   "metadata": {},
   "outputs": [
    {
     "data": {
      "text/plain": [
       "array([0.85714286, 0.85714286, 0.85714286, 0.92307692, 0.76923077,\n",
       "       0.92307692, 1.        , 1.        , 0.84615385, 0.92307692])"
      ]
     },
     "execution_count": 54,
     "metadata": {},
     "output_type": "execute_result"
    }
   ],
   "source": [
    "from sklearn.model_selection import cross_val_score\n",
    "\n",
    "cross_val_score(des_model, X_test, Y_test, cv=10)"
   ]
  },
  {
   "cell_type": "code",
   "execution_count": 55,
   "metadata": {},
   "outputs": [
    {
     "name": "stdout",
     "output_type": "stream",
     "text": [
      "              precision    recall  f1-score   support\n",
      "\n",
      "       False       0.94      0.93      0.94        86\n",
      "        True       0.88      0.89      0.88        47\n",
      "\n",
      "    accuracy                           0.92       133\n",
      "   macro avg       0.91      0.91      0.91       133\n",
      "weighted avg       0.92      0.92      0.92       133\n",
      "\n"
     ]
    }
   ],
   "source": [
    "from sklearn.metrics import classification_report \n",
    "\n",
    "print(classification_report(Y_test, Y_pred))"
   ]
  },
  {
   "cell_type": "code",
   "execution_count": 56,
   "metadata": {},
   "outputs": [
    {
     "data": {
      "image/png": "[encoded data removed]",
      "text/plain": [
       "<Figure size 432x432 with 2 Axes>"
      ]
     },
     "metadata": {},
     "output_type": "display_data"
    }
   ],
   "source": [
    "import scikitplot as skplt\n",
    "import matplotlib.pyplot as plt\n",
    "\n",
    "skplt.metrics.plot_confusion_matrix(Y_test, Y_pred, figsize=(6,6), \n",
    "                                    title='Confusion Matrix: Decision Tree',\n",
    "                                    normalize=False,\n",
    "                                    cmap='Blues')\n",
    "\n",
    "plt.show()"
   ]
  },
  {
   "cell_type": "code",
   "execution_count": 57,
   "metadata": {},
   "outputs": [
    {
     "name": "stdout",
     "output_type": "stream",
     "text": [
      "|--- smoker <= 0.50\n",
      "|   |--- age <= 58.50\n",
      "|   |   |--- age <= 51.50\n",
      "|   |   |   |--- region_label <= 1.50\n",
      "|   |   |   |   |--- bmi <= 29.59\n",
      "|   |   |   |   |   |--- bmi <= 27.98\n",
      "|   |   |   |   |   |   |--- bmi <= 26.74\n",
      "|   |   |   |   |   |   |   |--- bmi <= 25.41\n",
      "|   |   |   |   |   |   |   |   |--- bmi <= 25.32\n",
      "|   |   |   |   |   |   |   |   |   |--- age <= 22.50\n",
      "|   |   |   |   |   |   |   |   |   |   |--- class: False\n",
      "|   |   |   |   |   |   |   |   |   |--- age >  22.50\n",
      "|   |   |   |   |   |   |   |   |   |   |--- age <= 23.50\n",
      "|   |   |   |   |   |   |   |   |   |   |   |--- truncated branch of depth 3\n",
      "|   |   |   |   |   |   |   |   |   |   |--- age >  23.50\n",
      "|   |   |   |   |   |   |   |   |   |   |   |--- truncated branch of depth 7\n",
      "|   |   |   |   |   |   |   |   |--- bmi >  25.32\n",
      "|   |   |   |   |   |   |   |   |   |--- age <= 47.00\n",
      "|   |   |   |   |   |   |   |   |   |   |--- class: False\n",
      "|   |   |   |   |   |   |   |   |   |--- age >  47.00\n",
      "|   |   |   |   |   |   |   |   |   |   |--- class: True\n",
      "|   |   |   |   |   |   |   |--- bmi >  25.41\n",
      "|   |   |   |   |   |   |   |   |--- class: False\n",
      "|   |   |   |   |   |   |--- bmi >  26.74\n",
      "|   |   |   |   |   |   |   |--- age <= 19.50\n",
      "|   |   |   |   |   |   |   |   |--- children <= 1.00\n",
      "|   |   |   |   |   |   |   |   |   |--- class: False\n",
      "|   |   |   |   |   |   |   |   |--- children >  1.00\n",
      "|   |   |   |   |   |   |   |   |   |--- class: True\n",
      "|   |   |   |   |   |   |   |--- age >  19.50\n",
      "|   |   |   |   |   |   |   |   |--- bmi <= 26.84\n",
      "|   |   |   |   |   |   |   |   |   |--- class: True\n",
      "|   |   |   |   |   |   |   |   |--- bmi >  26.84\n",
      "|   |   |   |   |   |   |   |   |   |--- age <= 44.50\n",
      "|   |   |   |   |   |   |   |   |   |   |--- class: False\n",
      "|   |   |   |   |   |   |   |   |   |--- age >  44.50\n",
      "|   |   |   |   |   |   |   |   |   |   |--- age <= 45.50\n",
      "|   |   |   |   |   |   |   |   |   |   |   |--- class: True\n",
      "|   |   |   |   |   |   |   |   |   |   |--- age >  45.50\n",
      "|   |   |   |   |   |   |   |   |   |   |   |--- truncated branch of depth 3\n",
      "|   |   |   |   |   |--- bmi >  27.98\n",
      "|   |   |   |   |   |   |--- class: False\n",
      "|   |   |   |   |--- bmi >  29.59\n",
      "|   |   |   |   |   |--- bmi <= 29.78\n",
      "|   |   |   |   |   |   |--- children <= 0.50\n",
      "|   |   |   |   |   |   |   |--- class: False\n",
      "|   |   |   |   |   |   |--- children >  0.50\n",
      "|   |   |   |   |   |   |   |--- children <= 4.50\n",
      "|   |   |   |   |   |   |   |   |--- class: True\n",
      "|   |   |   |   |   |   |   |--- children >  4.50\n",
      "|   |   |   |   |   |   |   |   |--- class: False\n",
      "|   |   |   |   |   |--- bmi >  29.78\n",
      "|   |   |   |   |   |   |--- bmi <= 32.35\n",
      "|   |   |   |   |   |   |   |--- bmi <= 30.62\n",
      "|   |   |   |   |   |   |   |   |--- sex <= 0.50\n",
      "|   |   |   |   |   |   |   |   |   |--- bmi <= 30.54\n",
      "|   |   |   |   |   |   |   |   |   |   |--- age <= 29.00\n",
      "|   |   |   |   |   |   |   |   |   |   |   |--- truncated branch of depth 4\n",
      "|   |   |   |   |   |   |   |   |   |   |--- age >  29.00\n",
      "|   |   |   |   |   |   |   |   |   |   |   |--- class: False\n",
      "|   |   |   |   |   |   |   |   |   |--- bmi >  30.54\n",
      "|   |   |   |   |   |   |   |   |   |   |--- children <= 0.50\n",
      "|   |   |   |   |   |   |   |   |   |   |   |--- class: False\n",
      "|   |   |   |   |   |   |   |   |   |   |--- children >  0.50\n",
      "|   |   |   |   |   |   |   |   |   |   |   |--- class: True\n",
      "|   |   |   |   |   |   |   |   |--- sex >  0.50\n",
      "|   |   |   |   |   |   |   |   |   |--- class: False\n",
      "|   |   |   |   |   |   |   |--- bmi >  30.62\n",
      "|   |   |   |   |   |   |   |   |--- age <= 49.50\n",
      "|   |   |   |   |   |   |   |   |   |--- class: False\n",
      "|   |   |   |   |   |   |   |   |--- age >  49.50\n",
      "|   |   |   |   |   |   |   |   |   |--- children <= 1.50\n",
      "|   |   |   |   |   |   |   |   |   |   |--- class: False\n",
      "|   |   |   |   |   |   |   |   |   |--- children >  1.50\n",
      "|   |   |   |   |   |   |   |   |   |   |--- class: True\n",
      "|   |   |   |   |   |   |--- bmi >  32.35\n",
      "|   |   |   |   |   |   |   |--- age <= 20.50\n",
      "|   |   |   |   |   |   |   |   |--- class: False\n",
      "|   |   |   |   |   |   |   |--- age >  20.50\n",
      "|   |   |   |   |   |   |   |   |--- bmi <= 32.44\n",
      "|   |   |   |   |   |   |   |   |   |--- class: True\n",
      "|   |   |   |   |   |   |   |   |--- bmi >  32.44\n",
      "|   |   |   |   |   |   |   |   |   |--- age <= 29.50\n",
      "|   |   |   |   |   |   |   |   |   |   |--- bmi <= 34.20\n",
      "|   |   |   |   |   |   |   |   |   |   |   |--- truncated branch of depth 5\n",
      "|   |   |   |   |   |   |   |   |   |   |--- bmi >  34.20\n",
      "|   |   |   |   |   |   |   |   |   |   |   |--- truncated branch of depth 2\n",
      "|   |   |   |   |   |   |   |   |   |--- age >  29.50\n",
      "|   |   |   |   |   |   |   |   |   |   |--- bmi <= 35.01\n",
      "|   |   |   |   |   |   |   |   |   |   |   |--- truncated branch of depth 3\n",
      "|   |   |   |   |   |   |   |   |   |   |--- bmi >  35.01\n",
      "|   |   |   |   |   |   |   |   |   |   |   |--- truncated branch of depth 7\n",
      "|   |   |   |--- region_label >  1.50\n",
      "|   |   |   |   |--- children <= 1.50\n",
      "|   |   |   |   |   |--- bmi <= 38.89\n",
      "|   |   |   |   |   |   |--- bmi <= 38.22\n",
      "|   |   |   |   |   |   |   |--- bmi <= 23.20\n",
      "|   |   |   |   |   |   |   |   |--- class: False\n",
      "|   |   |   |   |   |   |   |--- bmi >  23.20\n",
      "|   |   |   |   |   |   |   |   |--- bmi <= 24.20\n",
      "|   |   |   |   |   |   |   |   |   |--- age <= 29.50\n",
      "|   |   |   |   |   |   |   |   |   |   |--- bmi <= 23.26\n",
      "|   |   |   |   |   |   |   |   |   |   |   |--- truncated branch of depth 3\n",
      "|   |   |   |   |   |   |   |   |   |   |--- bmi >  23.26\n",
      "|   |   |   |   |   |   |   |   |   |   |   |--- class: False\n",
      "|   |   |   |   |   |   |   |   |   |--- age >  29.50\n",
      "|   |   |   |   |   |   |   |   |   |   |--- bmi <= 23.62\n",
      "|   |   |   |   |   |   |   |   |   |   |   |--- class: False\n",
      "|   |   |   |   |   |   |   |   |   |   |--- bmi >  23.62\n",
      "|   |   |   |   |   |   |   |   |   |   |   |--- class: True\n",
      "|   |   |   |   |   |   |   |   |--- bmi >  24.20\n",
      "|   |   |   |   |   |   |   |   |   |--- bmi <= 27.00\n",
      "|   |   |   |   |   |   |   |   |   |   |--- class: False\n",
      "|   |   |   |   |   |   |   |   |   |--- bmi >  27.00\n",
      "|   |   |   |   |   |   |   |   |   |   |--- bmi <= 28.02\n",
      "|   |   |   |   |   |   |   |   |   |   |   |--- truncated branch of depth 5\n",
      "|   |   |   |   |   |   |   |   |   |   |--- bmi >  28.02\n",
      "|   |   |   |   |   |   |   |   |   |   |   |--- truncated branch of depth 11\n",
      "|   |   |   |   |   |   |--- bmi >  38.22\n",
      "|   |   |   |   |   |   |   |--- region_label <= 2.50\n",
      "|   |   |   |   |   |   |   |   |--- sex <= 0.50\n",
      "|   |   |   |   |   |   |   |   |   |--- bmi <= 38.56\n",
      "|   |   |   |   |   |   |   |   |   |   |--- class: False\n",
      "|   |   |   |   |   |   |   |   |   |--- bmi >  38.56\n",
      "|   |   |   |   |   |   |   |   |   |   |--- class: False\n",
      "|   |   |   |   |   |   |   |   |--- sex >  0.50\n",
      "|   |   |   |   |   |   |   |   |   |--- class: True\n",
      "|   |   |   |   |   |   |   |--- region_label >  2.50\n",
      "|   |   |   |   |   |   |   |   |--- class: False\n",
      "|   |   |   |   |   |--- bmi >  38.89\n",
      "|   |   |   |   |   |   |--- class: False\n",
      "|   |   |   |   |--- children >  1.50\n",
      "|   |   |   |   |   |--- age <= 49.50\n",
      "|   |   |   |   |   |   |--- children <= 2.50\n",
      "|   |   |   |   |   |   |   |--- bmi <= 35.53\n",
      "|   |   |   |   |   |   |   |   |--- bmi <= 35.26\n",
      "|   |   |   |   |   |   |   |   |   |--- bmi <= 28.05\n",
      "|   |   |   |   |   |   |   |   |   |   |--- bmi <= 27.45\n",
      "|   |   |   |   |   |   |   |   |   |   |   |--- class: False\n",
      "|   |   |   |   |   |   |   |   |   |   |--- bmi >  27.45\n",
      "|   |   |   |   |   |   |   |   |   |   |   |--- class: True\n",
      "|   |   |   |   |   |   |   |   |   |--- bmi >  28.05\n",
      "|   |   |   |   |   |   |   |   |   |   |--- class: False\n",
      "|   |   |   |   |   |   |   |   |--- bmi >  35.26\n",
      "|   |   |   |   |   |   |   |   |   |--- class: True\n",
      "|   |   |   |   |   |   |   |--- bmi >  35.53\n",
      "|   |   |   |   |   |   |   |   |--- class: False\n",
      "|   |   |   |   |   |   |--- children >  2.50\n",
      "|   |   |   |   |   |   |   |--- class: False\n",
      "|   |   |   |   |   |--- age >  49.50\n",
      "|   |   |   |   |   |   |--- bmi <= 27.99\n",
      "|   |   |   |   |   |   |   |--- bmi <= 25.69\n",
      "|   |   |   |   |   |   |   |   |--- class: False\n",
      "|   |   |   |   |   |   |   |--- bmi >  25.69\n",
      "|   |   |   |   |   |   |   |   |--- class: True\n",
      "|   |   |   |   |   |   |--- bmi >  27.99\n",
      "|   |   |   |   |   |   |   |--- class: False\n",
      "|   |   |--- age >  51.50\n",
      "|   |   |   |--- children <= 1.50\n",
      "|   |   |   |   |--- sex <= 0.50\n",
      "|   |   |   |   |   |--- age <= 56.50\n",
      "|   |   |   |   |   |   |--- bmi <= 26.89\n",
      "|   |   |   |   |   |   |   |--- bmi <= 26.70\n",
      "|   |   |   |   |   |   |   |   |--- bmi <= 24.83\n",
      "|   |   |   |   |   |   |   |   |   |--- class: False\n",
      "|   |   |   |   |   |   |   |   |--- bmi >  24.83\n",
      "|   |   |   |   |   |   |   |   |   |--- children <= 0.50\n",
      "|   |   |   |   |   |   |   |   |   |   |--- age <= 52.50\n",
      "|   |   |   |   |   |   |   |   |   |   |   |--- class: True\n",
      "|   |   |   |   |   |   |   |   |   |   |--- age >  52.50\n",
      "|   |   |   |   |   |   |   |   |   |   |   |--- class: False\n",
      "|   |   |   |   |   |   |   |   |   |--- children >  0.50\n",
      "|   |   |   |   |   |   |   |   |   |   |--- class: True\n",
      "|   |   |   |   |   |   |   |--- bmi >  26.70\n",
      "|   |   |   |   |   |   |   |   |--- class: True\n",
      "|   |   |   |   |   |   |--- bmi >  26.89\n",
      "|   |   |   |   |   |   |   |--- age <= 52.50\n",
      "|   |   |   |   |   |   |   |   |--- region_label <= 1.50\n",
      "|   |   |   |   |   |   |   |   |   |--- bmi <= 30.83\n",
      "|   |   |   |   |   |   |   |   |   |   |--- class: False\n",
      "|   |   |   |   |   |   |   |   |   |--- bmi >  30.83\n",
      "|   |   |   |   |   |   |   |   |   |   |--- class: True\n",
      "|   |   |   |   |   |   |   |   |--- region_label >  1.50\n",
      "|   |   |   |   |   |   |   |   |   |--- class: False\n",
      "|   |   |   |   |   |   |   |--- age >  52.50\n",
      "|   |   |   |   |   |   |   |   |--- class: False\n",
      "|   |   |   |   |   |--- age >  56.50\n",
      "|   |   |   |   |   |   |--- children <= 0.50\n",
      "|   |   |   |   |   |   |   |--- region_label <= 2.50\n",
      "|   |   |   |   |   |   |   |   |--- bmi <= 32.40\n",
      "|   |   |   |   |   |   |   |   |   |--- bmi <= 22.50\n",
      "|   |   |   |   |   |   |   |   |   |   |--- class: True\n",
      "|   |   |   |   |   |   |   |   |   |--- bmi >  22.50\n",
      "|   |   |   |   |   |   |   |   |   |   |--- age <= 57.50\n",
      "|   |   |   |   |   |   |   |   |   |   |   |--- class: False\n",
      "|   |   |   |   |   |   |   |   |   |   |--- age >  57.50\n",
      "|   |   |   |   |   |   |   |   |   |   |   |--- truncated branch of depth 2\n",
      "|   |   |   |   |   |   |   |   |--- bmi >  32.40\n",
      "|   |   |   |   |   |   |   |   |   |--- region_label <= 1.50\n",
      "|   |   |   |   |   |   |   |   |   |   |--- class: True\n",
      "|   |   |   |   |   |   |   |   |   |--- region_label >  1.50\n",
      "|   |   |   |   |   |   |   |   |   |   |--- bmi <= 40.48\n",
      "|   |   |   |   |   |   |   |   |   |   |   |--- class: False\n",
      "|   |   |   |   |   |   |   |   |   |   |--- bmi >  40.48\n",
      "|   |   |   |   |   |   |   |   |   |   |   |--- class: True\n",
      "|   |   |   |   |   |   |   |--- region_label >  2.50\n",
      "|   |   |   |   |   |   |   |   |--- class: False\n",
      "|   |   |   |   |   |   |--- children >  0.50\n",
      "|   |   |   |   |   |   |   |--- class: True\n",
      "|   |   |   |   |--- sex >  0.50\n",
      "|   |   |   |   |   |--- age <= 55.50\n",
      "|   |   |   |   |   |   |--- age <= 53.50\n",
      "|   |   |   |   |   |   |   |--- bmi <= 31.26\n",
      "|   |   |   |   |   |   |   |   |--- class: False\n",
      "|   |   |   |   |   |   |   |--- bmi >  31.26\n",
      "|   |   |   |   |   |   |   |   |--- bmi <= 32.30\n",
      "|   |   |   |   |   |   |   |   |   |--- class: True\n",
      "|   |   |   |   |   |   |   |   |--- bmi >  32.30\n",
      "|   |   |   |   |   |   |   |   |   |--- class: False\n",
      "|   |   |   |   |   |   |--- age >  53.50\n",
      "|   |   |   |   |   |   |   |--- bmi <= 32.89\n",
      "|   |   |   |   |   |   |   |   |--- age <= 54.50\n",
      "|   |   |   |   |   |   |   |   |   |--- bmi <= 30.11\n",
      "|   |   |   |   |   |   |   |   |   |   |--- region_label <= 2.00\n",
      "|   |   |   |   |   |   |   |   |   |   |   |--- truncated branch of depth 2\n",
      "|   |   |   |   |   |   |   |   |   |   |--- region_label >  2.00\n",
      "|   |   |   |   |   |   |   |   |   |   |   |--- class: False\n",
      "|   |   |   |   |   |   |   |   |   |--- bmi >  30.11\n",
      "|   |   |   |   |   |   |   |   |   |   |--- class: False\n",
      "|   |   |   |   |   |   |   |   |--- age >  54.50\n",
      "|   |   |   |   |   |   |   |   |   |--- class: False\n",
      "|   |   |   |   |   |   |   |--- bmi >  32.89\n",
      "|   |   |   |   |   |   |   |   |--- children <= 0.50\n",
      "|   |   |   |   |   |   |   |   |   |--- bmi <= 37.79\n",
      "|   |   |   |   |   |   |   |   |   |   |--- class: True\n",
      "|   |   |   |   |   |   |   |   |   |--- bmi >  37.79\n",
      "|   |   |   |   |   |   |   |   |   |   |--- class: False\n",
      "|   |   |   |   |   |   |   |   |--- children >  0.50\n",
      "|   |   |   |   |   |   |   |   |   |--- class: False\n",
      "|   |   |   |   |   |--- age >  55.50\n",
      "|   |   |   |   |   |   |--- bmi <= 39.94\n",
      "|   |   |   |   |   |   |   |--- class: False\n",
      "|   |   |   |   |   |   |--- bmi >  39.94\n",
      "|   |   |   |   |   |   |   |--- bmi <= 40.29\n",
      "|   |   |   |   |   |   |   |   |--- class: True\n",
      "|   |   |   |   |   |   |   |--- bmi >  40.29\n",
      "|   |   |   |   |   |   |   |   |--- class: False\n",
      "|   |   |   |--- children >  1.50\n",
      "|   |   |   |   |--- age <= 53.50\n",
      "|   |   |   |   |   |--- bmi <= 36.68\n",
      "|   |   |   |   |   |   |--- bmi <= 26.40\n",
      "|   |   |   |   |   |   |   |--- bmi <= 25.07\n",
      "|   |   |   |   |   |   |   |   |--- class: False\n",
      "|   |   |   |   |   |   |   |--- bmi >  25.07\n",
      "|   |   |   |   |   |   |   |   |--- class: True\n",
      "|   |   |   |   |   |   |--- bmi >  26.40\n",
      "|   |   |   |   |   |   |   |--- region_label <= 0.50\n",
      "|   |   |   |   |   |   |   |   |--- bmi <= 32.25\n",
      "|   |   |   |   |   |   |   |   |   |--- class: False\n",
      "|   |   |   |   |   |   |   |   |--- bmi >  32.25\n",
      "|   |   |   |   |   |   |   |   |   |--- class: True\n",
      "|   |   |   |   |   |   |   |--- region_label >  0.50\n",
      "|   |   |   |   |   |   |   |   |--- class: False\n",
      "|   |   |   |   |   |--- bmi >  36.68\n",
      "|   |   |   |   |   |   |--- region_label <= 0.50\n",
      "|   |   |   |   |   |   |   |--- class: False\n",
      "|   |   |   |   |   |   |--- region_label >  0.50\n",
      "|   |   |   |   |   |   |   |--- class: True\n",
      "|   |   |   |   |--- age >  53.50\n",
      "|   |   |   |   |   |--- region_label <= 1.50\n",
      "|   |   |   |   |   |   |--- class: True\n",
      "|   |   |   |   |   |--- region_label >  1.50\n",
      "|   |   |   |   |   |   |--- children <= 2.50\n",
      "|   |   |   |   |   |   |   |--- age <= 55.50\n",
      "|   |   |   |   |   |   |   |   |--- class: False\n",
      "|   |   |   |   |   |   |   |--- age >  55.50\n",
      "|   |   |   |   |   |   |   |   |--- class: True\n",
      "|   |   |   |   |   |   |--- children >  2.50\n",
      "|   |   |   |   |   |   |   |--- bmi <= 33.77\n",
      "|   |   |   |   |   |   |   |   |--- class: True\n",
      "|   |   |   |   |   |   |   |--- bmi >  33.77\n",
      "|   |   |   |   |   |   |   |   |--- bmi <= 34.99\n",
      "|   |   |   |   |   |   |   |   |   |--- class: False\n",
      "|   |   |   |   |   |   |   |   |--- bmi >  34.99\n",
      "|   |   |   |   |   |   |   |   |   |--- class: True\n",
      "|   |--- age >  58.50\n",
      "|   |   |--- age <= 59.50\n",
      "|   |   |   |--- bmi <= 26.45\n",
      "|   |   |   |   |--- region_label <= 1.50\n",
      "|   |   |   |   |   |--- class: True\n",
      "|   |   |   |   |--- region_label >  1.50\n",
      "|   |   |   |   |   |--- class: False\n",
      "|   |   |   |--- bmi >  26.45\n",
      "|   |   |   |   |--- class: True\n",
      "|   |   |--- age >  59.50\n",
      "|   |   |   |--- class: True\n",
      "|--- smoker >  0.50\n",
      "|   |--- class: True\n",
      "\n"
     ]
    }
   ],
   "source": [
    "from sklearn import tree\n",
    "\n",
    "text_rep = tree.export_text(des_model, feature_names=['age', 'sex', 'bmi', 'children', 'smoker','region_label'])\n",
    "print(text_rep)"
   ]
  },
  {
   "cell_type": "markdown",
   "metadata": {},
   "source": [
    "## Bagging and Boosting"
   ]
  },
  {
   "cell_type": "markdown",
   "metadata": {},
   "source": [
    "### Random Forest"
   ]
  },
  {
   "cell_type": "code",
   "execution_count": 58,
   "metadata": {},
   "outputs": [
    {
     "data": {
      "text/plain": [
       "RandomForestClassifier()"
      ]
     },
     "execution_count": 58,
     "metadata": {},
     "output_type": "execute_result"
    }
   ],
   "source": [
    "from sklearn.ensemble import RandomForestClassifier\n",
    "\n",
    "for_model = RandomForestClassifier()\n",
    "for_model.fit(X_train, Y_train)"
   ]
  },
  {
   "cell_type": "code",
   "execution_count": 59,
   "metadata": {},
   "outputs": [
    {
     "data": {
      "text/plain": [
       "array([False,  True,  True,  True,  True, False, False, False, False,\n",
       "       False])"
      ]
     },
     "execution_count": 59,
     "metadata": {},
     "output_type": "execute_result"
    }
   ],
   "source": [
    "Y_pred = for_model.predict(X_test)\n",
    "Y_pred[0:10]"
   ]
  },
  {
   "cell_type": "code",
   "execution_count": 60,
   "metadata": {},
   "outputs": [
    {
     "name": "stdout",
     "output_type": "stream",
     "text": [
      "Accuracy: 0.9548872180451128\n"
     ]
    }
   ],
   "source": [
    "acc = accuracy_score(Y_test,Y_pred)\n",
    "print(\"Accuracy:\", acc)"
   ]
  },
  {
   "cell_type": "code",
   "execution_count": 61,
   "metadata": {},
   "outputs": [
    {
     "name": "stdout",
     "output_type": "stream",
     "text": [
      "              precision    recall  f1-score   support\n",
      "\n",
      "       False       0.93      1.00      0.97        86\n",
      "        True       1.00      0.87      0.93        47\n",
      "\n",
      "    accuracy                           0.95       133\n",
      "   macro avg       0.97      0.94      0.95       133\n",
      "weighted avg       0.96      0.95      0.95       133\n",
      "\n"
     ]
    }
   ],
   "source": [
    "from sklearn.metrics import classification_report\n",
    "\n",
    "print(classification_report(Y_test, Y_pred))"
   ]
  },
  {
   "cell_type": "markdown",
   "metadata": {},
   "source": [
    "- Grid Search to find n_estimators value"
   ]
  },
  {
   "cell_type": "code",
   "execution_count": 62,
   "metadata": {},
   "outputs": [
    {
     "data": {
      "text/plain": [
       "GridSearchCV(cv=3, estimator=RandomForestClassifier(),\n",
       "             param_grid={'n_estimators': array([ 1,  3,  5,  7,  9, 11, 13, 15, 17, 19, 21, 23, 25, 27, 29, 31, 33,\n",
       "       35, 37, 39, 41, 43, 45, 47, 49, 51, 53, 55, 57, 59, 61, 63, 65, 67,\n",
       "       69, 71, 73, 75, 77, 79, 81, 83, 85, 87, 89, 91, 93, 95, 97, 99])})"
      ]
     },
     "execution_count": 62,
     "metadata": {},
     "output_type": "execute_result"
    }
   ],
   "source": [
    "from sklearn.model_selection import GridSearchCV\n",
    "\n",
    "grid = {\"n_estimators\" : np.arange(1,100,2)}\n",
    "rf = RandomForestClassifier()\n",
    "rfc = GridSearchCV(rf, grid, cv=3)\n",
    "rfc.fit(X_train,Y_train)"
   ]
  },
  {
   "cell_type": "code",
   "execution_count": 63,
   "metadata": {},
   "outputs": [
    {
     "name": "stdout",
     "output_type": "stream",
     "text": [
      "{'n_estimators': 65}\n",
      "RandomForestClassifier(n_estimators=65)\n"
     ]
    }
   ],
   "source": [
    "print(rfc.best_params_)\n",
    "print(rfc.best_estimator_) "
   ]
  },
  {
   "cell_type": "code",
   "execution_count": 64,
   "metadata": {},
   "outputs": [
    {
     "data": {
      "image/png": "[encoded data removed]",
      "text/plain": [
       "<Figure size 432x288 with 1 Axes>"
      ]
     },
     "metadata": {},
     "output_type": "display_data"
    }
   ],
   "source": [
    "results = pd.DataFrame(rfc.cv_results_['params'])\n",
    "results['test_score'] = rfc.cv_results_['mean_test_score']\n",
    "\n",
    "plt.plot(results['n_estimators'], results['test_score'], marker = '.') \n",
    "plt.xlabel('n_estimators')\n",
    "plt.ylabel(\"Mean CV Score\")\n",
    "plt.title(\"NB Performance Comparison\")\n",
    "plt.show()"
   ]
  },
  {
   "cell_type": "code",
   "execution_count": 65,
   "metadata": {},
   "outputs": [
    {
     "name": "stdout",
     "output_type": "stream",
     "text": [
      "Accuracy: 0.9398496240601504\n"
     ]
    }
   ],
   "source": [
    "from sklearn.ensemble import RandomForestClassifier\n",
    "\n",
    "classifier = RandomForestClassifier(n_estimators = 37)\n",
    "classifier.fit(X_train, Y_train)\n",
    "Y_pred = classifier.predict(X_test)\n",
    "\n",
    "acc = accuracy_score(Y_test,Y_pred)\n",
    "print(\"Accuracy:\", acc)"
   ]
  },
  {
   "cell_type": "markdown",
   "metadata": {},
   "source": [
    "10 fold cross validation"
   ]
  },
  {
   "cell_type": "code",
   "execution_count": 66,
   "metadata": {},
   "outputs": [
    {
     "data": {
      "text/plain": [
       "array([0.78571429, 0.92857143, 0.85714286, 0.92307692, 0.84615385,\n",
       "       1.        , 1.        , 1.        , 0.92307692, 0.84615385])"
      ]
     },
     "execution_count": 66,
     "metadata": {},
     "output_type": "execute_result"
    }
   ],
   "source": [
    "from sklearn.model_selection import cross_val_score\n",
    "\n",
    "cross_val_score(for_model, X_test, Y_test, cv=10)"
   ]
  },
  {
   "cell_type": "code",
   "execution_count": 67,
   "metadata": {},
   "outputs": [
    {
     "data": {
      "image/png": "[encoded data removed]",
      "text/plain": [
       "<Figure size 432x432 with 2 Axes>"
      ]
     },
     "metadata": {},
     "output_type": "display_data"
    }
   ],
   "source": [
    "import scikitplot as skplt\n",
    "import matplotlib.pyplot as plt\n",
    "\n",
    "skplt.metrics.plot_confusion_matrix(Y_test, Y_pred, figsize=(6,6), \n",
    "                                    title='Confusion Matrix: Random Forest',\n",
    "                                    normalize=False,\n",
    "                                    cmap='Blues')\n",
    "\n",
    "plt.show()"
   ]
  },
  {
   "cell_type": "code",
   "execution_count": 68,
   "metadata": {},
   "outputs": [
    {
     "name": "stdout",
     "output_type": "stream",
     "text": [
      "              precision    recall  f1-score   support\n",
      "\n",
      "       False       0.91      1.00      0.96        86\n",
      "        True       1.00      0.83      0.91        47\n",
      "\n",
      "    accuracy                           0.94       133\n",
      "   macro avg       0.96      0.91      0.93       133\n",
      "weighted avg       0.94      0.94      0.94       133\n",
      "\n"
     ]
    }
   ],
   "source": [
    "from sklearn.metrics import classification_report\n",
    "\n",
    "print(classification_report(Y_test, Y_pred))"
   ]
  },
  {
   "cell_type": "markdown",
   "metadata": {},
   "source": [
    "### Gradient Boosting"
   ]
  },
  {
   "cell_type": "code",
   "execution_count": 69,
   "metadata": {},
   "outputs": [
    {
     "name": "stdout",
     "output_type": "stream",
     "text": [
      "Accuracy: 0.9473684210526315\n"
     ]
    }
   ],
   "source": [
    "from sklearn.ensemble import GradientBoostingClassifier\n",
    "\n",
    "import scikitplot as skplt\n",
    "import matplotlib.pyplot as plt\n",
    "\n",
    "gb = GradientBoostingClassifier()\n",
    "gb_model = gb.fit(X_train, Y_train)\n",
    "Y_pred = gb_model.predict(X_test)\n",
    "\n",
    "acc = accuracy_score(Y_test,Y_pred)\n",
    "print(\"Accuracy:\", acc)"
   ]
  },
  {
   "cell_type": "markdown",
   "metadata": {},
   "source": [
    "10 fold cross validation"
   ]
  },
  {
   "cell_type": "code",
   "execution_count": 70,
   "metadata": {},
   "outputs": [
    {
     "data": {
      "text/plain": [
       "array([0.85714286, 0.92857143, 0.78571429, 0.84615385, 0.84615385,\n",
       "       1.        , 1.        , 1.        , 1.        , 0.84615385])"
      ]
     },
     "execution_count": 70,
     "metadata": {},
     "output_type": "execute_result"
    }
   ],
   "source": [
    "from sklearn.model_selection import cross_val_score\n",
    "\n",
    "cross_val_score(gb_model, X_test, Y_test, cv=10)"
   ]
  },
  {
   "cell_type": "code",
   "execution_count": 71,
   "metadata": {},
   "outputs": [
    {
     "data": {
      "image/png": "[encoded data removed]",
      "text/plain": [
       "<Figure size 432x432 with 2 Axes>"
      ]
     },
     "metadata": {},
     "output_type": "display_data"
    }
   ],
   "source": [
    "skplt.metrics.plot_confusion_matrix(Y_test, Y_pred, figsize=(6, 6), \n",
    "                                    title='Confusion Matrix: Gradient Boosting Classifier',\n",
    "                                    normalize=True,\n",
    "                                    cmap='Blues')\n",
    "plt.show()"
   ]
  },
  {
   "cell_type": "code",
   "execution_count": 72,
   "metadata": {},
   "outputs": [
    {
     "name": "stdout",
     "output_type": "stream",
     "text": [
      "              precision    recall  f1-score   support\n",
      "\n",
      "       False       0.92      1.00      0.96        86\n",
      "        True       1.00      0.85      0.92        47\n",
      "\n",
      "    accuracy                           0.95       133\n",
      "   macro avg       0.96      0.93      0.94       133\n",
      "weighted avg       0.95      0.95      0.95       133\n",
      "\n"
     ]
    }
   ],
   "source": [
    "from sklearn.metrics import classification_report\n",
    "\n",
    "print(classification_report(Y_test, Y_pred))"
   ]
  },
  {
   "cell_type": "markdown",
   "metadata": {},
   "source": [
    "### Dimensionality Reduction"
   ]
  },
  {
   "cell_type": "markdown",
   "metadata": {},
   "source": [
    "#### - PCA without normalisation"
   ]
  },
  {
   "cell_type": "code",
   "execution_count": 73,
   "metadata": {},
   "outputs": [
    {
     "data": {
      "text/plain": [
       "PCA()"
      ]
     },
     "execution_count": 73,
     "metadata": {},
     "output_type": "execute_result"
    }
   ],
   "source": [
    "from sklearn.decomposition import PCA\n",
    "from sklearn import preprocessing\n",
    "\n",
    "df_pca = df[['age', 'sex', 'bmi', 'children', 'smoker','region_label']]\n",
    "\n",
    "pcs = PCA()\n",
    "pcs.fit(df_pca)"
   ]
  },
  {
   "cell_type": "code",
   "execution_count": 74,
   "metadata": {},
   "outputs": [],
   "source": [
    "import numpy as np\n",
    "\n",
    "pcsSummary_df = pd.DataFrame({\"Std devn\":np.sqrt(pcs.explained_variance_),\n",
    "                              \"Proportion of var\": pcs.explained_variance_ratio_,\n",
    "                              \"Cum proportion\": np.cumsum(pcs.explained_variance_ratio_)})"
   ]
  },
  {
   "cell_type": "code",
   "execution_count": 75,
   "metadata": {},
   "outputs": [],
   "source": [
    "pcsSummary_df = pcsSummary_df.transpose()\n",
    "pcsSummary_df.columns = [\"PC\"+str(i) for i in range(1,len(pcsSummary_df.columns) + 1)]"
   ]
  },
  {
   "cell_type": "code",
   "execution_count": 76,
   "metadata": {},
   "outputs": [
    {
     "data": {
      "text/html": [
       "<div>\n",
       "<style scoped>\n",
       "    .dataframe tbody tr th:only-of-type {\n",
       "        vertical-align: middle;\n",
       "    }\n",
       "\n",
       "    .dataframe tbody tr th {\n",
       "        vertical-align: top;\n",
       "    }\n",
       "\n",
       "    .dataframe thead th {\n",
       "        text-align: right;\n",
       "    }\n",
       "</style>\n",
       "<table border=\"1\" class=\"dataframe\">\n",
       "  <thead>\n",
       "    <tr style=\"text-align: right;\">\n",
       "      <th></th>\n",
       "      <th>PC1</th>\n",
       "      <th>PC2</th>\n",
       "      <th>PC3</th>\n",
       "      <th>PC4</th>\n",
       "      <th>PC5</th>\n",
       "      <th>PC6</th>\n",
       "    </tr>\n",
       "  </thead>\n",
       "  <tbody>\n",
       "    <tr>\n",
       "      <th>Std devn</th>\n",
       "      <td>14.0699</td>\n",
       "      <td>6.0118</td>\n",
       "      <td>1.1990</td>\n",
       "      <td>1.0897</td>\n",
       "      <td>0.5021</td>\n",
       "      <td>0.4003</td>\n",
       "    </tr>\n",
       "    <tr>\n",
       "      <th>Proportion of var</th>\n",
       "      <td>0.8348</td>\n",
       "      <td>0.1524</td>\n",
       "      <td>0.0061</td>\n",
       "      <td>0.0050</td>\n",
       "      <td>0.0011</td>\n",
       "      <td>0.0007</td>\n",
       "    </tr>\n",
       "    <tr>\n",
       "      <th>Cum proportion</th>\n",
       "      <td>0.8348</td>\n",
       "      <td>0.9872</td>\n",
       "      <td>0.9933</td>\n",
       "      <td>0.9983</td>\n",
       "      <td>0.9993</td>\n",
       "      <td>1.0000</td>\n",
       "    </tr>\n",
       "  </tbody>\n",
       "</table>\n",
       "</div>"
      ],
      "text/plain": [
       "                       PC1     PC2     PC3     PC4     PC5     PC6\n",
       "Std devn           14.0699  6.0118  1.1990  1.0897  0.5021  0.4003\n",
       "Proportion of var   0.8348  0.1524  0.0061  0.0050  0.0011  0.0007\n",
       "Cum proportion      0.8348  0.9872  0.9933  0.9983  0.9993  1.0000"
      ]
     },
     "execution_count": 76,
     "metadata": {},
     "output_type": "execute_result"
    }
   ],
   "source": [
    "pcsSummary_df.round(4)"
   ]
  },
  {
   "cell_type": "markdown",
   "metadata": {},
   "source": [
    "    Principal Components 1 and 2 (PC1 & PC2) contains 98% of the information cumulatively.Principal Components 1 and 2 (PC1 & PC2) contains and 83% and 15 % of the information individually."
   ]
  },
  {
   "cell_type": "code",
   "execution_count": 77,
   "metadata": {},
   "outputs": [
    {
     "data": {
      "text/html": [
       "<div>\n",
       "<style scoped>\n",
       "    .dataframe tbody tr th:only-of-type {\n",
       "        vertical-align: middle;\n",
       "    }\n",
       "\n",
       "    .dataframe tbody tr th {\n",
       "        vertical-align: top;\n",
       "    }\n",
       "\n",
       "    .dataframe thead th {\n",
       "        text-align: right;\n",
       "    }\n",
       "</style>\n",
       "<table border=\"1\" class=\"dataframe\">\n",
       "  <thead>\n",
       "    <tr style=\"text-align: right;\">\n",
       "      <th></th>\n",
       "      <th>PC1</th>\n",
       "      <th>PC2</th>\n",
       "      <th>PC3</th>\n",
       "      <th>PC4</th>\n",
       "      <th>PC5</th>\n",
       "      <th>PC6</th>\n",
       "    </tr>\n",
       "  </thead>\n",
       "  <tbody>\n",
       "    <tr>\n",
       "      <th>age</th>\n",
       "      <td>0.998264</td>\n",
       "      <td>-0.058749</td>\n",
       "      <td>-0.003627</td>\n",
       "      <td>-0.001632</td>\n",
       "      <td>0.001069</td>\n",
       "      <td>0.000585</td>\n",
       "    </tr>\n",
       "    <tr>\n",
       "      <th>sex</th>\n",
       "      <td>-0.000702</td>\n",
       "      <td>0.003767</td>\n",
       "      <td>0.007966</td>\n",
       "      <td>0.002544</td>\n",
       "      <td>0.985788</td>\n",
       "      <td>-0.167741</td>\n",
       "    </tr>\n",
       "    <tr>\n",
       "      <th>bmi</th>\n",
       "      <td>0.058756</td>\n",
       "      <td>0.997823</td>\n",
       "      <td>-0.005065</td>\n",
       "      <td>0.029273</td>\n",
       "      <td>-0.003757</td>\n",
       "      <td>0.000288</td>\n",
       "    </tr>\n",
       "    <tr>\n",
       "      <th>children</th>\n",
       "      <td>0.003899</td>\n",
       "      <td>0.001862</td>\n",
       "      <td>0.994958</td>\n",
       "      <td>0.099728</td>\n",
       "      <td>-0.008954</td>\n",
       "      <td>-0.003831</td>\n",
       "    </tr>\n",
       "    <tr>\n",
       "      <th>smoker</th>\n",
       "      <td>-0.000715</td>\n",
       "      <td>0.000358</td>\n",
       "      <td>0.005114</td>\n",
       "      <td>0.001925</td>\n",
       "      <td>0.167698</td>\n",
       "      <td>0.985823</td>\n",
       "    </tr>\n",
       "    <tr>\n",
       "      <th>region_label</th>\n",
       "      <td>0.000479</td>\n",
       "      <td>0.029662</td>\n",
       "      <td>0.099654</td>\n",
       "      <td>-0.994578</td>\n",
       "      <td>0.001835</td>\n",
       "      <td>0.001102</td>\n",
       "    </tr>\n",
       "  </tbody>\n",
       "</table>\n",
       "</div>"
      ],
      "text/plain": [
       "                   PC1       PC2       PC3       PC4       PC5       PC6\n",
       "age           0.998264 -0.058749 -0.003627 -0.001632  0.001069  0.000585\n",
       "sex          -0.000702  0.003767  0.007966  0.002544  0.985788 -0.167741\n",
       "bmi           0.058756  0.997823 -0.005065  0.029273 -0.003757  0.000288\n",
       "children      0.003899  0.001862  0.994958  0.099728 -0.008954 -0.003831\n",
       "smoker       -0.000715  0.000358  0.005114  0.001925  0.167698  0.985823\n",
       "region_label  0.000479  0.029662  0.099654 -0.994578  0.001835  0.001102"
      ]
     },
     "execution_count": 77,
     "metadata": {},
     "output_type": "execute_result"
    }
   ],
   "source": [
    "pcsComponents_df = pd.DataFrame(pcs.components_.transpose(),\n",
    "                                columns=pcsSummary_df.columns,\n",
    "                                index=df_pca.columns)\n",
    "\n",
    "pcsComponents_df"
   ]
  },
  {
   "cell_type": "code",
   "execution_count": 78,
   "metadata": {},
   "outputs": [
    {
     "data": {
      "text/plain": [
       "age             0.998264\n",
       "sex            -0.000702\n",
       "bmi             0.058756\n",
       "children        0.003899\n",
       "smoker         -0.000715\n",
       "region_label    0.000479\n",
       "Name: PC1, dtype: float64"
      ]
     },
     "execution_count": 78,
     "metadata": {},
     "output_type": "execute_result"
    }
   ],
   "source": [
    "pcsComponents_df[\"PC1\"]"
   ]
  },
  {
   "cell_type": "code",
   "execution_count": 79,
   "metadata": {},
   "outputs": [],
   "source": [
    "from sklearn.decomposition import PCA\n",
    "\n",
    "X = df[['age', 'sex', 'bmi', 'children', 'smoker','region_label']]\n",
    "Y = df['charge_label']\n",
    "\n",
    "pca = PCA(n_components = 2)\n",
    "pca.fit(X)\n",
    "X_pca = pca.transform(X)"
   ]
  },
  {
   "cell_type": "code",
   "execution_count": 80,
   "metadata": {},
   "outputs": [
    {
     "name": "stdout",
     "output_type": "stream",
     "text": [
      "Shape of X_train: (1070, 2)\n",
      "Shape of X_test: (268, 2)\n",
      "Shape of Y_train: (1070,)\n",
      "Shape of Y_test: (268,)\n"
     ]
    }
   ],
   "source": [
    "from sklearn.model_selection import train_test_split\n",
    "\n",
    "X_train_pca, X_test_pca, Y_train_pca, Y_test_pca = train_test_split(X_pca, Y, stratify = Y, test_size=0.2, random_state=52)\n",
    "\n",
    "print('Shape of X_train:', X_train_pca.shape)\n",
    "print('Shape of X_test:', X_test_pca.shape)\n",
    "print('Shape of Y_train:', Y_train_pca.shape)\n",
    "print('Shape of Y_test:', Y_test_pca.shape)"
   ]
  },
  {
   "cell_type": "code",
   "execution_count": 81,
   "metadata": {},
   "outputs": [
    {
     "data": {
      "text/plain": [
       "GaussianNB()"
      ]
     },
     "execution_count": 81,
     "metadata": {},
     "output_type": "execute_result"
    }
   ],
   "source": [
    "from sklearn.naive_bayes import GaussianNB\n",
    "from sklearn.metrics import accuracy_score\n",
    "\n",
    "nb_model_pca = GaussianNB()\n",
    "nb_model_pca .fit(X_train_pca, Y_train_pca)"
   ]
  },
  {
   "cell_type": "code",
   "execution_count": 82,
   "metadata": {},
   "outputs": [
    {
     "data": {
      "text/plain": [
       "72.01"
      ]
     },
     "execution_count": 82,
     "metadata": {},
     "output_type": "execute_result"
    }
   ],
   "source": [
    "Y_pred_pca = nb_model_pca.predict(X_test_pca)\n",
    "acc = round(accuracy_score(Y_test_pca,Y_pred_pca) * 100, 2)\n",
    "acc"
   ]
  },
  {
   "cell_type": "code",
   "execution_count": 83,
   "metadata": {},
   "outputs": [
    {
     "name": "stdout",
     "output_type": "stream",
     "text": [
      "              precision    recall  f1-score   support\n",
      "\n",
      "       False       0.72      0.91      0.80       169\n",
      "        True       0.72      0.39      0.51        99\n",
      "\n",
      "    accuracy                           0.72       268\n",
      "   macro avg       0.72      0.65      0.66       268\n",
      "weighted avg       0.72      0.72      0.70       268\n",
      "\n"
     ]
    }
   ],
   "source": [
    "from sklearn.metrics import classification_report\n",
    "\n",
    "print(classification_report(Y_test_pca, Y_pred_pca))"
   ]
  },
  {
   "cell_type": "code",
   "execution_count": 84,
   "metadata": {},
   "outputs": [
    {
     "data": {
      "text/plain": [
       "<matplotlib.axes._subplots.AxesSubplot at 0x20b1aab5c10>"
      ]
     },
     "execution_count": 84,
     "metadata": {},
     "output_type": "execute_result"
    },
    {
     "data": {
      "image/png": "[encoded data removed]",
      "text/plain": [
       "<Figure size 432x432 with 2 Axes>"
      ]
     },
     "metadata": {},
     "output_type": "display_data"
    }
   ],
   "source": [
    "import scikitplot as skplt\n",
    "\n",
    "skplt.metrics.plot_confusion_matrix(Y_test_pca, Y_pred_pca, figsize=(6,6), \n",
    "                                title='Confusion Matrix: Naive Bayes',\n",
    "                                normalize=True,\n",
    "                                cmap='Blues')"
   ]
  },
  {
   "cell_type": "markdown",
   "metadata": {},
   "source": [
    "#### - PCA with Normalisation"
   ]
  },
  {
   "cell_type": "code",
   "execution_count": 85,
   "metadata": {},
   "outputs": [
    {
     "name": "stdout",
     "output_type": "stream",
     "text": [
      "Shape of the data frame is (1338, 6)\n"
     ]
    },
    {
     "data": {
      "text/html": [
       "<div>\n",
       "<style scoped>\n",
       "    .dataframe tbody tr th:only-of-type {\n",
       "        vertical-align: middle;\n",
       "    }\n",
       "\n",
       "    .dataframe tbody tr th {\n",
       "        vertical-align: top;\n",
       "    }\n",
       "\n",
       "    .dataframe thead th {\n",
       "        text-align: right;\n",
       "    }\n",
       "</style>\n",
       "<table border=\"1\" class=\"dataframe\">\n",
       "  <thead>\n",
       "    <tr style=\"text-align: right;\">\n",
       "      <th></th>\n",
       "      <th>age</th>\n",
       "      <th>sex</th>\n",
       "      <th>bmi</th>\n",
       "      <th>children</th>\n",
       "      <th>smoker</th>\n",
       "      <th>region_label</th>\n",
       "    </tr>\n",
       "  </thead>\n",
       "  <tbody>\n",
       "    <tr>\n",
       "      <th>0</th>\n",
       "      <td>-1.438764</td>\n",
       "      <td>-1.010519</td>\n",
       "      <td>-0.454575</td>\n",
       "      <td>-0.904050</td>\n",
       "      <td>1.970587</td>\n",
       "      <td>1.343905</td>\n",
       "    </tr>\n",
       "    <tr>\n",
       "      <th>1</th>\n",
       "      <td>-1.509965</td>\n",
       "      <td>0.989591</td>\n",
       "      <td>0.515154</td>\n",
       "      <td>-0.069830</td>\n",
       "      <td>-0.507463</td>\n",
       "      <td>0.438495</td>\n",
       "    </tr>\n",
       "    <tr>\n",
       "      <th>2</th>\n",
       "      <td>-0.797954</td>\n",
       "      <td>0.989591</td>\n",
       "      <td>0.387950</td>\n",
       "      <td>1.598611</td>\n",
       "      <td>-0.507463</td>\n",
       "      <td>0.438495</td>\n",
       "    </tr>\n",
       "    <tr>\n",
       "      <th>3</th>\n",
       "      <td>-0.441948</td>\n",
       "      <td>0.989591</td>\n",
       "      <td>-1.312794</td>\n",
       "      <td>-0.904050</td>\n",
       "      <td>-0.507463</td>\n",
       "      <td>-0.466915</td>\n",
       "    </tr>\n",
       "    <tr>\n",
       "      <th>4</th>\n",
       "      <td>-0.513149</td>\n",
       "      <td>0.989591</td>\n",
       "      <td>-0.292678</td>\n",
       "      <td>-0.904050</td>\n",
       "      <td>-0.507463</td>\n",
       "      <td>-0.466915</td>\n",
       "    </tr>\n",
       "  </tbody>\n",
       "</table>\n",
       "</div>"
      ],
      "text/plain": [
       "        age       sex       bmi  children    smoker  region_label\n",
       "0 -1.438764 -1.010519 -0.454575 -0.904050  1.970587      1.343905\n",
       "1 -1.509965  0.989591  0.515154 -0.069830 -0.507463      0.438495\n",
       "2 -0.797954  0.989591  0.387950  1.598611 -0.507463      0.438495\n",
       "3 -0.441948  0.989591 -1.312794 -0.904050 -0.507463     -0.466915\n",
       "4 -0.513149  0.989591 -0.292678 -0.904050 -0.507463     -0.466915"
      ]
     },
     "execution_count": 85,
     "metadata": {},
     "output_type": "execute_result"
    }
   ],
   "source": [
    "from sklearn import preprocessing\n",
    "\n",
    "np_norm = preprocessing.scale(df_pca)\n",
    "df_norm = pd.DataFrame(np_norm, columns = df_pca.columns)\n",
    "\n",
    "print(\"Shape of the data frame is\",df_norm.shape)\n",
    "df_norm.head(5)"
   ]
  },
  {
   "cell_type": "code",
   "execution_count": 86,
   "metadata": {},
   "outputs": [
    {
     "data": {
      "text/plain": [
       "PCA()"
      ]
     },
     "execution_count": 86,
     "metadata": {},
     "output_type": "execute_result"
    }
   ],
   "source": [
    "from sklearn.decomposition import PCA\n",
    "from sklearn import preprocessing\n",
    "\n",
    "pcs = PCA()\n",
    "pcs.fit(df_norm)"
   ]
  },
  {
   "cell_type": "code",
   "execution_count": 87,
   "metadata": {},
   "outputs": [],
   "source": [
    "import numpy as np\n",
    "\n",
    "pcsSummary_df = pd.DataFrame({\"Std devn\":np.sqrt(pcs.explained_variance_),\n",
    "                              \"Proportion of var\": pcs.explained_variance_ratio_,\n",
    "                              \"Cum proportion\": np.cumsum(pcs.explained_variance_ratio_)})"
   ]
  },
  {
   "cell_type": "code",
   "execution_count": 88,
   "metadata": {},
   "outputs": [
    {
     "data": {
      "text/html": [
       "<div>\n",
       "<style scoped>\n",
       "    .dataframe tbody tr th:only-of-type {\n",
       "        vertical-align: middle;\n",
       "    }\n",
       "\n",
       "    .dataframe tbody tr th {\n",
       "        vertical-align: top;\n",
       "    }\n",
       "\n",
       "    .dataframe thead th {\n",
       "        text-align: right;\n",
       "    }\n",
       "</style>\n",
       "<table border=\"1\" class=\"dataframe\">\n",
       "  <thead>\n",
       "    <tr style=\"text-align: right;\">\n",
       "      <th></th>\n",
       "      <th>PC1</th>\n",
       "      <th>PC2</th>\n",
       "      <th>PC3</th>\n",
       "      <th>PC4</th>\n",
       "      <th>PC5</th>\n",
       "      <th>PC6</th>\n",
       "    </tr>\n",
       "  </thead>\n",
       "  <tbody>\n",
       "    <tr>\n",
       "      <th>Std devn</th>\n",
       "      <td>1.0978</td>\n",
       "      <td>1.0436</td>\n",
       "      <td>1.0096</td>\n",
       "      <td>0.9826</td>\n",
       "      <td>0.9614</td>\n",
       "      <td>0.8951</td>\n",
       "    </tr>\n",
       "    <tr>\n",
       "      <th>Proportion of var</th>\n",
       "      <td>0.2007</td>\n",
       "      <td>0.1814</td>\n",
       "      <td>0.1698</td>\n",
       "      <td>0.1608</td>\n",
       "      <td>0.1539</td>\n",
       "      <td>0.1334</td>\n",
       "    </tr>\n",
       "    <tr>\n",
       "      <th>Cum proportion</th>\n",
       "      <td>0.2007</td>\n",
       "      <td>0.3821</td>\n",
       "      <td>0.5518</td>\n",
       "      <td>0.7127</td>\n",
       "      <td>0.8666</td>\n",
       "      <td>1.0000</td>\n",
       "    </tr>\n",
       "  </tbody>\n",
       "</table>\n",
       "</div>"
      ],
      "text/plain": [
       "                      PC1     PC2     PC3     PC4     PC5     PC6\n",
       "Std devn           1.0978  1.0436  1.0096  0.9826  0.9614  0.8951\n",
       "Proportion of var  0.2007  0.1814  0.1698  0.1608  0.1539  0.1334\n",
       "Cum proportion     0.2007  0.3821  0.5518  0.7127  0.8666  1.0000"
      ]
     },
     "execution_count": 88,
     "metadata": {},
     "output_type": "execute_result"
    }
   ],
   "source": [
    "pcsSummary_df = pcsSummary_df.transpose()\n",
    "pcsSummary_df.columns = [\"PC\"+str(i) for i in range(1,len(pcsSummary_df.columns) + 1)]\n",
    "pcsSummary_df.round(4)"
   ]
  },
  {
   "cell_type": "markdown",
   "metadata": {},
   "source": [
    "    Principal Components 1 to 5 (PC1 to PC5) contains 86% of the information cumulatively."
   ]
  },
  {
   "cell_type": "code",
   "execution_count": 89,
   "metadata": {},
   "outputs": [
    {
     "data": {
      "text/html": [
       "<div>\n",
       "<style scoped>\n",
       "    .dataframe tbody tr th:only-of-type {\n",
       "        vertical-align: middle;\n",
       "    }\n",
       "\n",
       "    .dataframe tbody tr th {\n",
       "        vertical-align: top;\n",
       "    }\n",
       "\n",
       "    .dataframe thead th {\n",
       "        text-align: right;\n",
       "    }\n",
       "</style>\n",
       "<table border=\"1\" class=\"dataframe\">\n",
       "  <thead>\n",
       "    <tr style=\"text-align: right;\">\n",
       "      <th></th>\n",
       "      <th>PC1</th>\n",
       "      <th>PC2</th>\n",
       "      <th>PC3</th>\n",
       "      <th>PC4</th>\n",
       "      <th>PC5</th>\n",
       "      <th>PC6</th>\n",
       "    </tr>\n",
       "  </thead>\n",
       "  <tbody>\n",
       "    <tr>\n",
       "      <th>age</th>\n",
       "      <td>-0.411107</td>\n",
       "      <td>-0.311198</td>\n",
       "      <td>0.494649</td>\n",
       "      <td>-0.542973</td>\n",
       "      <td>0.113096</td>\n",
       "      <td>-0.426449</td>\n",
       "    </tr>\n",
       "    <tr>\n",
       "      <th>sex</th>\n",
       "      <td>-0.130718</td>\n",
       "      <td>0.668005</td>\n",
       "      <td>0.067029</td>\n",
       "      <td>-0.217184</td>\n",
       "      <td>-0.671351</td>\n",
       "      <td>-0.185224</td>\n",
       "    </tr>\n",
       "    <tr>\n",
       "      <th>bmi</th>\n",
       "      <td>-0.684983</td>\n",
       "      <td>0.004122</td>\n",
       "      <td>-0.155221</td>\n",
       "      <td>-0.170608</td>\n",
       "      <td>-0.013460</td>\n",
       "      <td>0.690941</td>\n",
       "    </tr>\n",
       "    <tr>\n",
       "      <th>children</th>\n",
       "      <td>-0.206884</td>\n",
       "      <td>0.060867</td>\n",
       "      <td>0.706628</td>\n",
       "      <td>0.659961</td>\n",
       "      <td>-0.073776</td>\n",
       "      <td>0.114803</td>\n",
       "    </tr>\n",
       "    <tr>\n",
       "      <th>smoker</th>\n",
       "      <td>-0.011358</td>\n",
       "      <td>0.672445</td>\n",
       "      <td>0.121247</td>\n",
       "      <td>-0.114406</td>\n",
       "      <td>0.721037</td>\n",
       "      <td>-0.002237</td>\n",
       "    </tr>\n",
       "    <tr>\n",
       "      <th>region_label</th>\n",
       "      <td>-0.549338</td>\n",
       "      <td>0.031969</td>\n",
       "      <td>-0.461207</td>\n",
       "      <td>0.424578</td>\n",
       "      <td>0.104775</td>\n",
       "      <td>-0.541525</td>\n",
       "    </tr>\n",
       "  </tbody>\n",
       "</table>\n",
       "</div>"
      ],
      "text/plain": [
       "                   PC1       PC2       PC3       PC4       PC5       PC6\n",
       "age          -0.411107 -0.311198  0.494649 -0.542973  0.113096 -0.426449\n",
       "sex          -0.130718  0.668005  0.067029 -0.217184 -0.671351 -0.185224\n",
       "bmi          -0.684983  0.004122 -0.155221 -0.170608 -0.013460  0.690941\n",
       "children     -0.206884  0.060867  0.706628  0.659961 -0.073776  0.114803\n",
       "smoker       -0.011358  0.672445  0.121247 -0.114406  0.721037 -0.002237\n",
       "region_label -0.549338  0.031969 -0.461207  0.424578  0.104775 -0.541525"
      ]
     },
     "execution_count": 89,
     "metadata": {},
     "output_type": "execute_result"
    }
   ],
   "source": [
    "pcsComponents_df = pd.DataFrame(pcs.components_.transpose(),\n",
    "                                columns=pcsSummary_df.columns,\n",
    "                                index=df_norm.columns)\n",
    "\n",
    "pcsComponents_df"
   ]
  },
  {
   "cell_type": "markdown",
   "metadata": {},
   "source": [
    "PCA with normalisation had to take into account five principal componenets to explain 86% of the variability. But PCA without normalisation required only first two componenets to explain 93% of the information."
   ]
  },
  {
   "cell_type": "markdown",
   "metadata": {},
   "source": [
    "### Student T-test"
   ]
  },
  {
   "cell_type": "raw",
   "metadata": {},
   "source": [
    "Null Hypothesis : Age distribution is same in the dataset for people with bmi>45 and the whole population.\n",
    "Alternate Hypothesis : Age distribution in the dataset is different for  people with bmi>45 and wh0le population."
   ]
  },
  {
   "cell_type": "code",
   "execution_count": 90,
   "metadata": {},
   "outputs": [
    {
     "data": {
      "text/plain": [
       "1338"
      ]
     },
     "execution_count": 90,
     "metadata": {},
     "output_type": "execute_result"
    }
   ],
   "source": [
    "ages = df['age']\n",
    "len(ages)"
   ]
  },
  {
   "cell_type": "markdown",
   "metadata": {},
   "source": [
    "Morbidly obese if BMI greater than 45."
   ]
  },
  {
   "cell_type": "code",
   "execution_count": 91,
   "metadata": {},
   "outputs": [
    {
     "data": {
      "text/plain": [
       "20"
      ]
     },
     "execution_count": 91,
     "metadata": {},
     "output_type": "execute_result"
    }
   ],
   "source": [
    "obese_ages = df['age'][df['bmi'] >= 45]\n",
    "len(obese_ages)"
   ]
  },
  {
   "cell_type": "code",
   "execution_count": 92,
   "metadata": {},
   "outputs": [
    {
     "name": "stdout",
     "output_type": "stream",
     "text": [
      "Mean Age of Morbidly Obese Sample is : 39.45\n",
      "Mean Age of Population is : 39.20702541106129\n"
     ]
    }
   ],
   "source": [
    "import numpy as np\n",
    "\n",
    "obese_mean = np.mean(obese_ages)\n",
    "age_mean = np.mean(ages)\n",
    "\n",
    "print(\"Mean Age of Morbidly Obese Sample is :\", obese_mean)\n",
    "print(\"Mean Age of Population is :\", age_mean)"
   ]
  },
  {
   "cell_type": "code",
   "execution_count": 93,
   "metadata": {},
   "outputs": [
    {
     "data": {
      "text/plain": [
       "0.9321168720173963"
      ]
     },
     "execution_count": 93,
     "metadata": {},
     "output_type": "execute_result"
    }
   ],
   "source": [
    "from scipy.stats import ttest_1samp\n",
    "\n",
    "ttest, p_val = ttest_1samp(obese_ages, age_mean)\n",
    "p_val"
   ]
  },
  {
   "cell_type": "markdown",
   "metadata": {},
   "source": [
    "p value is greater than 0.05(alpha), therefore Accepting Null hypotheses."
   ]
  },
  {
   "cell_type": "markdown",
   "metadata": {},
   "source": [
    "### ROC Tests"
   ]
  },
  {
   "cell_type": "code",
   "execution_count": 94,
   "metadata": {},
   "outputs": [],
   "source": [
    "models = [\n",
    "    {\n",
    "        'label': 'Naive Bayes',\n",
    "        'model': nb_model\n",
    "    },\n",
    "    {\n",
    "        'label': 'Decision Tree Classification',\n",
    "        'model': des_model\n",
    "    },\n",
    "    {\n",
    "        'label': 'Random Forest',\n",
    "        'model': for_model\n",
    "    },\n",
    "    {\n",
    "        'label': 'Gradient Boosting',\n",
    "        'model': gb_model\n",
    "    }\n",
    "]"
   ]
  },
  {
   "cell_type": "code",
   "execution_count": 95,
   "metadata": {},
   "outputs": [
    {
     "data": {
      "text/plain": [
       "<Figure size 432x288 with 0 Axes>"
      ]
     },
     "metadata": {},
     "output_type": "display_data"
    },
    {
     "data": {
      "image/png": "[encoded data removed]",
      "text/plain": [
       "<Figure size 576x432 with 1 Axes>"
      ]
     },
     "metadata": {},
     "output_type": "display_data"
    }
   ],
   "source": [
    "import matplotlib.pyplot as plt\n",
    "from sklearn.metrics import roc_curve, roc_auc_score, auc\n",
    "\n",
    "X_train, X_test, Y_train, Y_test = train_test_split(X, Y, test_size=0.2, random_state=52)\n",
    "\n",
    "plt.clf()\n",
    "plt.figure(figsize=(8,6))\n",
    "for m in models:\n",
    "    m['model'].probability = True\n",
    "    probas = m['model'].fit(X_train,Y_train).predict_proba(X_test)\n",
    "    fpr, tpr, thresholds = roc_curve(Y_test, probas[:, 1])\n",
    "    roc_auc  = auc(fpr, tpr)\n",
    "    plt.plot(fpr, tpr, label='%s ROC (area = %0.2f)' % (m['label'], roc_auc))\n",
    "    \n",
    "plt.plot([0, 1], [0, 1], 'k--')\n",
    "plt.xlim([0.0, 1.0])\n",
    "plt.ylim([0.0, 1.0])\n",
    "plt.xlabel('False Positive Rate')\n",
    "plt.ylabel('True Positive Rate')\n",
    "plt.legend(loc=0, fontsize='small')\n",
    "plt.show()"
   ]
  },
  {
   "cell_type": "markdown",
   "metadata": {},
   "source": [
    "Random Forest and Gradient boosting techniques has the highest ROC. That is both these models can do the classification of insurance cost better."
   ]
  },
  {
   "cell_type": "markdown",
   "metadata": {},
   "source": [
    "### Gradio UI"
   ]
  },
  {
   "cell_type": "code",
   "execution_count": 96,
   "metadata": {},
   "outputs": [],
   "source": [
    "import matplotlib.pyplot as pltt\n",
    "\n",
    "def plot_bmi(bmi, charge):\n",
    "    \n",
    "    pltt.figure()\n",
    "    pltt.style.use('seaborn-whitegrid')\n",
    "\n",
    "    pltt.title(\"BMI vs Insurance Charges\")\n",
    "\n",
    "    mot = pltt.scatter(\"bmi\", \"charges\", c =\"red\", \n",
    "                linewidths = 2, edgecolor =\"blue\", \n",
    "                s = 50, alpha = 0.5, data = df)\n",
    "    \n",
    "    lne = pltt.axhline(12000, c='g')\n",
    "    \n",
    "    pred = pltt.scatter(bmi, charge, c =\"red\", \n",
    "                linewidths = 2, edgecolor =\"yellow\", \n",
    "                s = 100, alpha = 1)\n",
    "\n",
    "    pltt.xlabel('BMI')\n",
    "    pltt.ylabel('Insurance Charges')\n",
    "\n",
    "    return pltt"
   ]
  },
  {
   "cell_type": "code",
   "execution_count": 97,
   "metadata": {},
   "outputs": [],
   "source": [
    "def convert(opt):\n",
    "    return \"Low\" if opt == 0 else \"High\""
   ]
  },
  {
   "cell_type": "code",
   "execution_count": 98,
   "metadata": {},
   "outputs": [],
   "source": [
    "import gradio as gr\n",
    "\n",
    "import pandas as pd\n",
    "\n",
    "def gpredict(age, sex, bmi, children, smoker, region):\n",
    "    \n",
    "    if sex == \"Male\":\n",
    "        sex = 1\n",
    "    else:\n",
    "        sex = 0\n",
    "        \n",
    "    if smoker == \"Smoker\":\n",
    "        smoker = 1\n",
    "    else:\n",
    "        smoker = 0\n",
    "        \n",
    "    if region == \"North East\":\n",
    "        region = 0\n",
    "    elif region == \"North West\":\n",
    "        region = 1\n",
    "    elif region == \"South East\":\n",
    "        region = 2\n",
    "    else:\n",
    "        region = 3\n",
    "        \n",
    "    test = [[age, sex, bmi, children, smoker, region]]\n",
    "    test = pd.DataFrame(test, columns =['age', 'sex', 'bmi', 'children', 'smoker', 'region'], dtype = float)\n",
    "\n",
    "    opt1 = int(lr.predict(test))\n",
    "    opt2 = int(ridge_reg.predict(test))\n",
    "    img1 = plot_bmi(bmi, opt1)\n",
    "    \n",
    "    opt3 = convert(int(nb_model.predict(test)))\n",
    "    opt4 = convert(int(des_model.predict(test)))\n",
    "    \n",
    "    opt5 = convert(int(for_model.predict(test)))\n",
    "    opt6 = convert(int(gb_model.predict(test)))\n",
    "  \n",
    " \n",
    "    return img1, opt1, opt2, opt3, opt4, opt5, opt6"
   ]
  },
  {
   "cell_type": "code",
   "execution_count": 99,
   "metadata": {},
   "outputs": [
    {
     "name": "stdout",
     "output_type": "stream",
     "text": [
      "IMPORTANT: You are using gradio version 1.4.0, however version 1.5.0 is available, please upgrade.\n",
      "--------\n",
      "Running locally at: http://127.0.0.1:7860/\n",
      "This share link will expire in 24 hours. If you need a permanent link, email support@gradio.app\n",
      "Running on External URL: https://14473.gradio.app\n",
      "Interface loading below...\n"
     ]
    },
    {
     "data": {
      "text/html": [
       "\n",
       "        <iframe\n",
       "            width=\"1000\"\n",
       "            height=\"500\"\n",
       "            src=\"https://14473.gradio.app\"\n",
       "            frameborder=\"0\"\n",
       "            allowfullscreen\n",
       "        ></iframe>\n",
       "        "
      ],
      "text/plain": [
       "<IPython.lib.display.IFrame at 0x20b1d531eb0>"
      ]
     },
     "metadata": {},
     "output_type": "display_data"
    },
    {
     "data": {
      "text/plain": [
       "(<Flask 'gradio.networking'>,\n",
       " 'http://127.0.0.1:7860/',\n",
       " 'https://14473.gradio.app')"
      ]
     },
     "execution_count": 99,
     "metadata": {},
     "output_type": "execute_result"
    }
   ],
   "source": [
    "iface = gr.Interface(\n",
    "  fn = gpredict, \n",
    "    \n",
    "  inputs=[gr.inputs.Slider(0, 80, default=42), \n",
    "          gr.inputs.Radio(['female', 'male'], label=\"Sex\"), \n",
    "          gr.inputs.Slider(0, 60),\n",
    "          gr.inputs.Slider(0, 10),\n",
    "          gr.inputs.Radio(['Smoker', 'Non-Smoker'], label=\"Smoking Habits\"),\n",
    "          gr.inputs.Radio(['North East', 'North West', 'South East', 'South West'], label=\"Region\")],\n",
    "    \n",
    "  outputs=[gr.outputs.Image(label=\"BMI vs Insurance Charges\"),\n",
    "           \n",
    "           gr.outputs.Textbox(label=\"Insurance - Linear Regression\"),\n",
    "           gr.outputs.Textbox(label=\"Insurance - Ridge Regression\"),\n",
    "           \n",
    "           \n",
    "           gr.outputs.Textbox(label=\"Naive Bayes (87%)\"),\n",
    "           gr.outputs.Textbox(label=\"Decision Tree (92%)\"),\n",
    "           gr.outputs.Textbox(label=\"Random Forest (96%)\"),\n",
    "           gr.outputs.Textbox(label=\"Gradient Boosting (95%)\")\n",
    "          ],\n",
    "    \n",
    "    live=False\n",
    "\n",
    "  )\n",
    "\n",
    "iface.launch(share=True)"
   ]
  }
 ],
 "metadata": {
  "kernelspec": {
   "display_name": "Python 3",
   "language": "python",
   "name": "python3"
  },
  "language_info": {
   "codemirror_mode": {
    "name": "ipython",
    "version": 3
   },
   "file_extension": ".py",
   "mimetype": "text/x-python",
   "name": "python",
   "nbconvert_exporter": "python",
   "pygments_lexer": "ipython3",
   "version": "3.8.3"
  }
 },
 "nbformat": 4,
 "nbformat_minor": 4
}
